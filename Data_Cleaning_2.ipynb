{
 "cells": [
  {
   "cell_type": "code",
   "execution_count": 19,
   "metadata": {},
   "outputs": [],
   "source": [
    "import pandas as pd\n",
    "import numpy as np\n",
    "import requests\n",
    "import re\n",
    "import json\n",
    "from bs4 import BeautifulSoup\n",
    "import matplotlib.pyplot as plt\n",
    "import seaborn as sns\n",
    "import src.clean_functions as cl_f"
   ]
  },
  {
   "cell_type": "code",
   "execution_count": 20,
   "metadata": {},
   "outputs": [],
   "source": [
    "##Defining cleaning parameters\n",
    "## params to clean km (max/min)\n",
    "kmmax=300000\n",
    "kmmin=2000\n",
    "\n",
    "## params to clean año column (max/min)\n",
    "anmax=15\n",
    "anmin=1\n",
    "\n",
    "## params to clean precio column (max/min)\n",
    "prcmax=100000\n",
    "prcmin=500\n",
    "\n",
    "## Params low frequency\n",
    "lf_model=100\n",
    "lf_brand=200\n",
    "lf_carro=500\n",
    "\n",
    "##Bining params\n",
    "ColumnsBin=['Longitud','Kilometros','Peso','Potencia']\n",
    "Bins={'Longitud':10,\n",
    "      'Kilometros':10,\n",
    "      'Peso':8,\n",
    "      'Potencia':6\n",
    "     }\n",
    "\n",
    "##weighted params\n",
    "n_km=1\n",
    "n_ano=1\n",
    "n_pot=1.2"
   ]
  },
  {
   "cell_type": "code",
   "execution_count": 21,
   "metadata": {},
   "outputs": [],
   "source": [
    "df1 = pd.DataFrame(pd.read_csv(\"./cars_clean.csv\"))"
   ]
  },
  {
   "cell_type": "code",
   "execution_count": 22,
   "metadata": {},
   "outputs": [],
   "source": [
    "##Encoding categorical variables\n",
    "df1['Cambio']=[cl_f.cambio(i) for i in df1['Cambio']]\n",
    "df1['Traccion']=[cl_f.traccion(i) for i in df1['Traccion']]\n",
    "df1['Puertas']=[cl_f.puertas(i) for i in df1['Puertas']]\n",
    "df1['Marchas']=[cl_f.marchas(i) for i in df1['Marchas']]"
   ]
  },
  {
   "cell_type": "code",
   "execution_count": 23,
   "metadata": {},
   "outputs": [],
   "source": [
    "##Encoding column año\n",
    "df1['Ano'] = df1['Ano'].str[-4:]\n",
    "df1=df1.dropna()\n",
    "df1['Ano'] = df1['Ano'].astype(float)\n",
    "df1['Ano']=2019-df1['Ano']"
   ]
  },
  {
   "cell_type": "code",
   "execution_count": 24,
   "metadata": {},
   "outputs": [],
   "source": [
    "##Dropping ouliers rows in km\n",
    "df1 = df1[df1[\"Kilometros\"]<=kmmax]\n",
    "df1 = df1[df1[\"Kilometros\"]>=kmmin]"
   ]
  },
  {
   "cell_type": "code",
   "execution_count": 25,
   "metadata": {},
   "outputs": [],
   "source": [
    "##Dropping ouliers rows for año\n",
    "df1 = df1[df1[\"Ano\"]<=anmax]\n",
    "df1 = df1[df1[\"Ano\"]>=anmin]\n",
    "\n",
    "##Dropping ouliers rows for precio\n",
    "df1 = df1[df1[\"Precio\"]<=prcmax]\n",
    "df1 = df1[df1[\"Precio\"]>=prcmin]\n",
    "\n",
    "##Casting columns\n",
    "df1['Potencia']=df1['Potencia'].astype('float')\n",
    "df1['Cilindros']=df1['Cilindros'].astype('float')"
   ]
  },
  {
   "cell_type": "code",
   "execution_count": 26,
   "metadata": {},
   "outputs": [],
   "source": [
    "##df1=df1.dropna()\n",
    "df1 = df1[df1[\"Longitud\"] !=0]\n",
    "df1 = df1[df1[\"Velocidad\"] !=0]\n",
    "df1 = df1[df1['Cmixto'] !=0]"
   ]
  },
  {
   "cell_type": "code",
   "execution_count": 27,
   "metadata": {},
   "outputs": [],
   "source": [
    "##removing low frequency Brands and models\n",
    "df1=cl_f.RemoveLowFreq(df1,\"Model\",lf_model)\n",
    "df1=cl_f.RemoveLowFreq(df1,\"Brand\",lf_brand)\n",
    "df1=cl_f.RemoveLowFreq(df1,\"Carroceria\",lf_carro)\n"
   ]
  },
  {
   "cell_type": "code",
   "execution_count": 28,
   "metadata": {},
   "outputs": [],
   "source": [
    "##Encoding through get_dummies\n",
    "df1 = pd.get_dummies(df1, columns=['Combustible'])\n",
    "df1 = pd.get_dummies(df1, columns=['Brand'])\n",
    "df1 = pd.get_dummies(df1, columns=['Carroceria'])"
   ]
  },
  {
   "cell_type": "code",
   "execution_count": 29,
   "metadata": {},
   "outputs": [],
   "source": [
    "ColumnsNorm=['Emisiones','Longitud','Plazas','Peso','Cilindros','Velocidad','Cmixto','Curbano','Extraurbano','0-100km/h','Cilindrada','Cilindros','Parmaximo',\"Ano\",'Potencia','Kilometros']\n",
    "##ColumnsNormmaxmin=[\"Ano\",'Potencia','Kilometros']"
   ]
  },
  {
   "cell_type": "code",
   "execution_count": 30,
   "metadata": {},
   "outputs": [],
   "source": [
    "for col in ColumnsNorm:\n",
    "    cl_f.normalization(df1,col)\n",
    "\n",
    "##for col in ColumnsNormmaxmin:\n",
    "##    cl_f.normalizationmaxmin(df1,col)"
   ]
  },
  {
   "cell_type": "code",
   "execution_count": 31,
   "metadata": {},
   "outputs": [],
   "source": [
    "###Weighting features\n",
    "df1[\"Kilometros\"]=df1[\"Kilometros\"]*n_km\n",
    "df1[\"Ano\"]=df1[\"Ano\"]*n_ano\n",
    "df1[\"Potencia\"]=df1[\"Potencia\"]*n_pot"
   ]
  },
  {
   "cell_type": "code",
   "execution_count": null,
   "metadata": {},
   "outputs": [],
   "source": []
  }
 ],
 "metadata": {
  "kernelspec": {
   "display_name": "Python 3",
   "language": "python",
   "name": "python3"
  },
  "language_info": {
   "codemirror_mode": {
    "name": "ipython",
    "version": 3
   },
   "file_extension": ".py",
   "mimetype": "text/x-python",
   "name": "python",
   "nbconvert_exporter": "python",
   "pygments_lexer": "ipython3",
   "version": "3.6.9"
  }
 },
 "nbformat": 4,
 "nbformat_minor": 2
}
