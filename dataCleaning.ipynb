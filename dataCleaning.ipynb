{
 "cells": [
  {
   "cell_type": "code",
   "execution_count": 2,
   "metadata": {},
   "outputs": [],
   "source": [
    "import pandas as pd\n",
    "import numpy as np\n",
    "import requests\n",
    "import re\n",
    "import json\n",
    "from bs4 import BeautifulSoup\n",
    "import matplotlib.pyplot as plt\n",
    "import seaborn as sns"
   ]
  },
  {
   "cell_type": "code",
   "execution_count": 10,
   "metadata": {},
   "outputs": [
    {
     "ename": "FileNotFoundError",
     "evalue": "[Errno 2] No such file or directory: '../input/scrap/carso_casion.json'",
     "output_type": "error",
     "traceback": [
      "\u001b[0;31m---------------------------------------------------------------------------\u001b[0m",
      "\u001b[0;31mFileNotFoundError\u001b[0m                         Traceback (most recent call last)",
      "\u001b[0;32m<ipython-input-10-1c6b853ca008>\u001b[0m in \u001b[0;36m<module>\u001b[0;34m\u001b[0m\n\u001b[1;32m      1\u001b[0m \u001b[0;31m###Bringing up all csvs from scraping\u001b[0m\u001b[0;34m\u001b[0m\u001b[0;34m\u001b[0m\u001b[0;34m\u001b[0m\u001b[0m\n\u001b[0;32m----> 2\u001b[0;31m \u001b[0;32mwith\u001b[0m \u001b[0mopen\u001b[0m\u001b[0;34m(\u001b[0m\u001b[0;34m\"../input/scrap/carso_casion.json\"\u001b[0m\u001b[0;34m,\u001b[0m \u001b[0;34m\"r\"\u001b[0m\u001b[0;34m)\u001b[0m \u001b[0;32mas\u001b[0m \u001b[0mread_file\u001b[0m\u001b[0;34m:\u001b[0m\u001b[0;34m\u001b[0m\u001b[0;34m\u001b[0m\u001b[0m\n\u001b[0m\u001b[1;32m      3\u001b[0m     \u001b[0mdata\u001b[0m \u001b[0;34m=\u001b[0m \u001b[0mjson\u001b[0m\u001b[0;34m.\u001b[0m\u001b[0mload\u001b[0m\u001b[0;34m(\u001b[0m\u001b[0mread_file\u001b[0m\u001b[0;34m)\u001b[0m\u001b[0;34m\u001b[0m\u001b[0;34m\u001b[0m\u001b[0m\n",
      "\u001b[0;31mFileNotFoundError\u001b[0m: [Errno 2] No such file or directory: '../input/scrap/carso_casion.json'"
     ]
    }
   ],
   "source": [
    "###Bringing up all csvs from scraping\n",
    "with open(\"../input/scrap/carso_casion.json\", \"r\") as read_file:\n",
    "    data = json.load(read_file)"
   ]
  },
  {
   "cell_type": "code",
   "execution_count": 67,
   "metadata": {},
   "outputs": [],
   "source": [
    "###Concatenating dataframes\n",
    "df1=pd.concat([df11,df12,df13,df14,df15,df16,df17,df18,df19],ignore_index=True)"
   ]
  },
  {
   "cell_type": "code",
   "execution_count": 68,
   "metadata": {},
   "outputs": [],
   "source": [
    "dropcolumns=['Emisión CO2','Garantía','Color exterior','Autonomía','Peso Max.','Transmisión','Depósito','Vendedor','Altura','Anchura','Maletero']\n",
    "df1.drop(dropcolumns, axis=1, inplace=True)\n",
    "df1=pd.DataFrame(df1)\n",
    "##df1.to_csv('./input/cars_all.csv', index=False)\n",
    "##df1.to_json(r'./input/cars_all.json')"
   ]
  },
  {
   "cell_type": "code",
   "execution_count": 69,
   "metadata": {},
   "outputs": [],
   "source": [
    "###df1=pd.read_csv(\"./output/cars.csv\")\n",
    "###df1=pd.DataFrame(df1)\n",
    "###display(df1.head())"
   ]
  },
  {
   "cell_type": "code",
   "execution_count": 70,
   "metadata": {},
   "outputs": [
    {
     "name": "stdout",
     "output_type": "stream",
     "text": [
      "(59165, 23)\n",
      "Precio          object\n",
      "Año             object\n",
      "Potencia        object\n",
      "Kilómetros      object\n",
      "Combustible     object\n",
      "Puertas        float64\n",
      "Cambio          object\n",
      "Emisiones       object\n",
      "Longitud        object\n",
      "Plazas         float64\n",
      "Peso            object\n",
      "Carrocería      object\n",
      "Vel. máxima     object\n",
      "C. mixto        object\n",
      "C. urbano       object\n",
      "Extraurbano     object\n",
      "0-100 km/h      object\n",
      "Cilindrada      object\n",
      "Cilindros       object\n",
      "Par máximo      object\n",
      "Marchas        float64\n",
      "Tracción        object\n",
      "model           object\n",
      "dtype: object\n"
     ]
    }
   ],
   "source": [
    "print(df1.shape)\n",
    "print(df1.dtypes)"
   ]
  },
  {
   "cell_type": "code",
   "execution_count": 71,
   "metadata": {},
   "outputs": [
    {
     "name": "stdout",
     "output_type": "stream",
     "text": [
      "(54183, 23)\n"
     ]
    }
   ],
   "source": [
    "df1=df1.dropna()\n",
    "print(df1.shape)\n",
    "##print(df1.isnull().sum())"
   ]
  },
  {
   "cell_type": "code",
   "execution_count": 72,
   "metadata": {},
   "outputs": [
    {
     "name": "stdout",
     "output_type": "stream",
     "text": [
      "Berlina                 25248\n",
      "Todo Terreno            11801\n",
      "Monovolumen              5686\n",
      "Stationwagon             3624\n",
      "Coupe                    2674\n",
      "Furgon                   1531\n",
      "Combi                    1483\n",
      "Convertible              1172\n",
      "Roadster                  595\n",
      "Chasis                    162\n",
      "Pick-Up Doble Cabina      116\n",
      "Chasis Doble Cabina        39\n",
      "Targa                      27\n",
      "Pick-Up                    19\n",
      "Bus                         6\n",
      "Name: Carrocería, dtype: int64\n"
     ]
    }
   ],
   "source": [
    "print(df1['Carrocería'].value_counts())"
   ]
  },
  {
   "cell_type": "code",
   "execution_count": 73,
   "metadata": {},
   "outputs": [],
   "source": [
    "def columnreplace(df,column,string):\n",
    "    df[column]=df[column].str.replace(string,'')\n",
    "    df[column]=df[column].str.replace(\".\",'')\n",
    "    df[column]=df[column].astype('float')\n",
    "    return df"
   ]
  },
  {
   "cell_type": "code",
   "execution_count": 74,
   "metadata": {},
   "outputs": [],
   "source": [
    "def columnreplace2(df,column,string):\n",
    "    df[column]=df[column].str.replace(string,'')\n",
    "    df[column]=df[column].str.replace(\",\",'')\n",
    "    df[column]=df[column].astype('float')/10\n",
    "    return df"
   ]
  },
  {
   "cell_type": "code",
   "execution_count": 75,
   "metadata": {},
   "outputs": [],
   "source": [
    "def columndigits(df,column):\n",
    "    df[column]=[re.findall(r'\\d+',i)[0] for i in df1[column]]\n",
    "    return df"
   ]
  },
  {
   "cell_type": "code",
   "execution_count": 76,
   "metadata": {},
   "outputs": [],
   "source": [
    "def columnlist(df,column):\n",
    "    df[column]=df[column].str.replace(\"'\",'')\n",
    "    df[column]=df[column].str.replace(\"[\",'')\n",
    "    df[column]=df[column].str.replace(\"]\",'')\n",
    "    df[column]=[i.split(\",\") for i in df[column]]\n",
    "    return df[column]"
   ]
  },
  {
   "cell_type": "code",
   "execution_count": 77,
   "metadata": {},
   "outputs": [],
   "source": [
    "##Dropping rows in km\n",
    "def removevalues(df1,column,value):\n",
    "    indexNames = df1[ df1[column] == value].index\n",
    "    df1.drop(indexNames , inplace=True)\n",
    "    return df1"
   ]
  },
  {
   "cell_type": "code",
   "execution_count": 78,
   "metadata": {},
   "outputs": [],
   "source": [
    "df1=removevalues(df1,\"Kilómetros\",\"NUEVO\")\n",
    "df1=removevalues(df1,\"Combustible\",\"Híbrido\")\n",
    "df1=removevalues(df1,\"Combustible\",\"Eléctrico\")"
   ]
  },
  {
   "cell_type": "code",
   "execution_count": 63,
   "metadata": {},
   "outputs": [
    {
     "name": "stdout",
     "output_type": "stream",
     "text": [
      "Diesel      35309\n",
      "Gasolina    17433\n",
      "Name: Combustible, dtype: int64\n"
     ]
    }
   ],
   "source": [
    "##Dropping rows in Combustible (low freq of Hibrid and electric)\n",
    "df1 = df1[df1[\"Combustible\"] != \"Híbrido\"]\n",
    "df1 = df1[df1[\"Combustible\"] != \"Eléctrico\"]\n",
    "print(df1[\"Combustible\"].value_counts())"
   ]
  },
  {
   "cell_type": "code",
   "execution_count": 79,
   "metadata": {},
   "outputs": [],
   "source": [
    "##Numerical columns (integers)\n",
    "df1=columnreplace(df1,\"Precio\",\"€\")\n",
    "df1=columnreplace(df1,\"Kilómetros\",\" km\")\n",
    "df1=columnreplace(df1,\"Emisiones\",\" gr/mdiv3div\")\n",
    "df1=columnreplace(df1,\"Cilindrada\",\" cmdiv3div\")\n",
    "df1=columnreplace(df1,\"Par máximo\",\" Nm\")\n",
    "df1=columnreplace(df1,\"Vel. máxima\",\" km/h\")\n",
    "\n",
    "##df1=columnreplace(df1,\"Maletero\",\" l\")\n",
    "##df1=columnreplace(df1,\"Depósito\",\" l\")\n",
    "df1=columnreplace(df1,\"Longitud\",\" cm\")\n",
    "##df1=columnreplace(df1,\"Anchura\",\" cm\")\n",
    "##df1=columnreplace(df1,\"Altura\",\" cm\")\n",
    "df1=columnreplace(df1,\"Peso\",\" kg\")\n",
    "\n",
    "##['Emisión CO2','Garantía','Color exterior','Autonomía','Peso Max.','Transmisión','Depósito',\n",
    "##'Vendedor','Altura','Anchura','Maletero']"
   ]
  },
  {
   "cell_type": "code",
   "execution_count": 80,
   "metadata": {},
   "outputs": [],
   "source": [
    "##Numerical columns (floats)\n",
    "df1=columnreplace2(df1,\"0-100 km/h\",\" s\")\n",
    "df1=columnreplace2(df1,\"C. mixto\",\" l\")\n",
    "df1=columnreplace2(df1,\"C. urbano\",\" l\")\n",
    "df1=columnreplace2(df1,\"Extraurbano\",\" l\")\n",
    "##display(df1.head(5))"
   ]
  },
  {
   "cell_type": "code",
   "execution_count": 81,
   "metadata": {},
   "outputs": [],
   "source": [
    "##Adjusting columns with numerical and non numerical\n",
    "df1=columndigits(df1,'Potencia')\n",
    "df1=columndigits(df1,'Cilindros')\n",
    "\n",
    "##display(df1.head(5))"
   ]
  },
  {
   "cell_type": "code",
   "execution_count": 82,
   "metadata": {},
   "outputs": [],
   "source": [
    "df1['model']=columnlist(df1,\"model\")\n",
    "##display(df1.head(5))"
   ]
  },
  {
   "cell_type": "code",
   "execution_count": 83,
   "metadata": {},
   "outputs": [],
   "source": [
    "df1['Provincia']=[i[1].strip() for i in df1['model']]\n",
    "df1['Brand']=[i[2].strip() for i in df1['model']]\n",
    "df1['Model']=[i[3].strip() for i in df1['model']]"
   ]
  },
  {
   "cell_type": "code",
   "execution_count": 84,
   "metadata": {},
   "outputs": [],
   "source": [
    "##Dropping rows in km\n",
    "##param\n",
    "kmmax=300000\n",
    "kmmin=2500\n",
    "\n",
    "df1 = df1[df1[\"Kilómetros\"] <=kmmax]\n",
    "df1 = df1[df1[\"Kilómetros\"] >=kmmin]"
   ]
  },
  {
   "cell_type": "code",
   "execution_count": 85,
   "metadata": {},
   "outputs": [],
   "source": [
    "##candidate columns for get dummies\n",
    "## Combustible\n",
    "## Cambio\n",
    "## Tracción\n",
    "## Puertas"
   ]
  },
  {
   "cell_type": "code",
   "execution_count": 86,
   "metadata": {},
   "outputs": [],
   "source": [
    "def cambio(cambio):\n",
    "    if (cambio.lower()).find('secuencial')>-1:\n",
    "        return 1\n",
    "    if (cambio.lower()).find('automática')>-1:\n",
    "        return 0.75\n",
    "    else:\n",
    "        return 0"
   ]
  },
  {
   "cell_type": "code",
   "execution_count": 87,
   "metadata": {},
   "outputs": [],
   "source": [
    "def traccion(traccion):\n",
    "    if (traccion.lower()).find('total')>-1:\n",
    "        return 1\n",
    "    if (traccion.lower()).find('trasera')>-1:\n",
    "        return 0.5\n",
    "    else:\n",
    "        return 0"
   ]
  },
  {
   "cell_type": "code",
   "execution_count": 88,
   "metadata": {},
   "outputs": [],
   "source": [
    "def puertas(puertas):\n",
    "    if puertas>3:\n",
    "        return 1\n",
    "    else:\n",
    "        return 0"
   ]
  },
  {
   "cell_type": "code",
   "execution_count": 89,
   "metadata": {},
   "outputs": [],
   "source": [
    "def marchas(marchas):\n",
    "    if marchas>=6:\n",
    "        return 1\n",
    "    else:\n",
    "        return 0"
   ]
  },
  {
   "cell_type": "code",
   "execution_count": 90,
   "metadata": {},
   "outputs": [],
   "source": [
    "df1['Cambio']=[cambio(i) for i in df1['Cambio']]\n",
    "df1['Tracción']=[traccion(i) for i in df1['Tracción']]\n",
    "df1['Puertas']=[puertas(i) for i in df1['Puertas']]\n",
    "df1['Marchas']=[marchas(i) for i in df1['Marchas']]\n",
    "##display(df1)"
   ]
  },
  {
   "cell_type": "code",
   "execution_count": 91,
   "metadata": {},
   "outputs": [
    {
     "name": "stdout",
     "output_type": "stream",
     "text": [
      "1     6710\n",
      "4     5905\n",
      "3     5523\n",
      "2     5302\n",
      "5     3106\n",
      "6     2046\n",
      "8     1923\n",
      "7     1803\n",
      "9     1504\n",
      "12    1272\n",
      "10    1181\n",
      "11    1179\n",
      "13    1007\n",
      "14     777\n",
      "15     625\n",
      "Name: Año, dtype: int64\n"
     ]
    }
   ],
   "source": [
    "##Columna Año\n",
    "##param\n",
    "anmax=15\n",
    "anmin=1\n",
    "\n",
    "df1['Año'] = df1['Año'].str[-4:]\n",
    "df1=df1.dropna()\n",
    "df1['Año'] = df1['Año'].astype(int)\n",
    "df1['Año']=2019-df1['Año']\n",
    "df1 = df1[df1[\"Año\"] <=anmax]\n",
    "df1 = df1[df1[\"Año\"] >=anmin]\n",
    "print(df1['Año'].value_counts())\n",
    "\n",
    "df1 = df1[df1[\"Precio\"] <= 400000]"
   ]
  },
  {
   "cell_type": "code",
   "execution_count": 92,
   "metadata": {},
   "outputs": [],
   "source": [
    "df1['Potencia']=df1['Potencia'].astype('float')\n",
    "df1['Cilindros']=df1['Cilindros'].astype('float')"
   ]
  },
  {
   "cell_type": "code",
   "execution_count": 94,
   "metadata": {},
   "outputs": [],
   "source": [
    "##Columns to drop\n",
    "##dropcolumns2=['Vendedor','Altura','Anchura','Maletero','Provincia','model','Depósito']\n",
    "##df1.drop(dropcolumns2, axis=1, inplace=True)\n",
    "df1 = df1[df1[\"Longitud\"] !=0]\n",
    "df1 = df1[df1[\"Vel. máxima\"] !=0]\n",
    "df1 = df1[df1['C. mixto'] !=0]"
   ]
  },
  {
   "cell_type": "code",
   "execution_count": 95,
   "metadata": {},
   "outputs": [
    {
     "name": "stdout",
     "output_type": "stream",
     "text": [
      "(37618, 26)\n"
     ]
    }
   ],
   "source": [
    "print(df1.shape)"
   ]
  },
  {
   "cell_type": "code",
   "execution_count": 98,
   "metadata": {},
   "outputs": [
    {
     "data": {
      "image/png": "[encoded data removed]",
      "text/plain": [
       "<matplotlib.figure.Figure at 0x7f07a8c8e748>"
      ]
     },
     "metadata": {
      "needs_background": "light"
     },
     "output_type": "display_data"
    }
   ],
   "source": [
    "fig, ax = plt.subplots(figsize=(16,8))\n",
    "ax.scatter(df1['Precio'], df1['C. mixto'])\n",
    "ax.set_xlabel('Precio')\n",
    "ax.set_ylabel('Longitud')\n",
    "plt.show()"
   ]
  },
  {
   "cell_type": "code",
   "execution_count": 99,
   "metadata": {},
   "outputs": [],
   "source": [
    "##Removing low frequency columns\n",
    "##Brand\n",
    "##threshold = 100 # Anything that occurs less than this will be removed.\n",
    "##value_counts = df1['Brand'].value_counts() # Specific column \n",
    "##to_remove = value_counts[value_counts <= threshold].index\n",
    "##df1['Brand'].replace(to_remove, np.nan, inplace=True)\n",
    "##df1=df1.dropna()"
   ]
  },
  {
   "cell_type": "code",
   "execution_count": 100,
   "metadata": {},
   "outputs": [],
   "source": [
    "##Removing low frequency columns\n",
    "def RemoveLowFreq(df,column,threshold):\n",
    "    value_counts = df1[column].value_counts() # Specific column \n",
    "    to_remove = value_counts[value_counts <= threshold].index\n",
    "    df[column].replace(to_remove, np.nan, inplace=True)\n",
    "    df=df.dropna()\n",
    "    return df"
   ]
  },
  {
   "cell_type": "code",
   "execution_count": 101,
   "metadata": {},
   "outputs": [],
   "source": [
    "## Params low frequency\n",
    "lf_model=100\n",
    "lf_brand=200\n",
    "lf_carro=1000\n",
    "\n",
    "df1=RemoveLowFreq(df1,\"Model\",lf_model)\n",
    "df1=RemoveLowFreq(df1,\"Brand\",lf_brand)\n",
    "df1=RemoveLowFreq(df1,\"Carrocería\",lf_carro)"
   ]
  },
  {
   "cell_type": "code",
   "execution_count": 104,
   "metadata": {},
   "outputs": [
    {
     "data": {
      "text/plain": [
       "Volkswagen Golf       958\n",
       "Seat León             862\n",
       "Citroen C4            735\n",
       "Audi A3               658\n",
       "Nissan Qashqai        647\n",
       "                     ... \n",
       "Hyundai Santa Fe      103\n",
       "Peugeot 207            94\n",
       "Mercedes Clase Cla     87\n",
       "Mercedes Clase Glc     86\n",
       "Citroen Berlingo        2\n",
       "Name: Model, Length: 88, dtype: int64"
      ]
     },
     "metadata": {},
     "output_type": "display_data"
    }
   ],
   "source": [
    "modelos=df1['Model'].value_counts()\n",
    "display(modelos)"
   ]
  },
  {
   "cell_type": "code",
   "execution_count": 105,
   "metadata": {},
   "outputs": [
    {
     "name": "stdout",
     "output_type": "stream",
     "text": [
      "'Precio'\n",
      "'Año'\n",
      "'Potencia'\n",
      "'Kilómetros'\n",
      "'Combustible'\n",
      "'Puertas'\n",
      "'Cambio'\n",
      "'Emisiones'\n",
      "'Longitud'\n",
      "'Plazas'\n",
      "'Peso'\n",
      "'Carrocería'\n",
      "'Vel. máxima'\n",
      "'C. mixto'\n",
      "'C. urbano'\n",
      "'Extraurbano'\n",
      "'0-100 km/h'\n",
      "'Cilindrada'\n",
      "'Cilindros'\n",
      "'Par máximo'\n",
      "'Marchas'\n",
      "'Tracción'\n",
      "'model'\n",
      "'Provincia'\n",
      "'Brand'\n",
      "'Model'\n"
     ]
    }
   ],
   "source": [
    "for col in df1.columns: \n",
    "    print(\"'\"+col+\"'\")"
   ]
  },
  {
   "cell_type": "code",
   "execution_count": 106,
   "metadata": {},
   "outputs": [
    {
     "data": {
      "text/html": [
       "<div>\n",
       "<style scoped>\n",
       "    .dataframe tbody tr th:only-of-type {\n",
       "        vertical-align: middle;\n",
       "    }\n",
       "\n",
       "    .dataframe tbody tr th {\n",
       "        vertical-align: top;\n",
       "    }\n",
       "\n",
       "    .dataframe thead th {\n",
       "        text-align: right;\n",
       "    }\n",
       "</style>\n",
       "<table border=\"1\" class=\"dataframe\">\n",
       "  <thead>\n",
       "    <tr style=\"text-align: right;\">\n",
       "      <th></th>\n",
       "      <th>Precio</th>\n",
       "      <th>Año</th>\n",
       "      <th>Potencia</th>\n",
       "      <th>Kilómetros</th>\n",
       "      <th>Marchas</th>\n",
       "      <th>0-100 km/h</th>\n",
       "      <th>Cilindros</th>\n",
       "      <th>Tracción</th>\n",
       "      <th>Marchas</th>\n",
       "    </tr>\n",
       "  </thead>\n",
       "  <tbody>\n",
       "    <tr>\n",
       "      <th>count</th>\n",
       "      <td>24241.000000</td>\n",
       "      <td>24241.000000</td>\n",
       "      <td>24241.000000</td>\n",
       "      <td>24241.000000</td>\n",
       "      <td>24241.000000</td>\n",
       "      <td>24241.000000</td>\n",
       "      <td>24241.000000</td>\n",
       "      <td>24241.000000</td>\n",
       "      <td>24241.000000</td>\n",
       "    </tr>\n",
       "    <tr>\n",
       "      <th>mean</th>\n",
       "      <td>15309.982798</td>\n",
       "      <td>4.470278</td>\n",
       "      <td>134.202426</td>\n",
       "      <td>77856.187740</td>\n",
       "      <td>0.750258</td>\n",
       "      <td>10.408073</td>\n",
       "      <td>3.988449</td>\n",
       "      <td>0.150613</td>\n",
       "      <td>0.750258</td>\n",
       "    </tr>\n",
       "    <tr>\n",
       "      <th>std</th>\n",
       "      <td>9204.512529</td>\n",
       "      <td>3.337461</td>\n",
       "      <td>52.412662</td>\n",
       "      <td>55122.963272</td>\n",
       "      <td>0.432873</td>\n",
       "      <td>2.142736</td>\n",
       "      <td>0.618031</td>\n",
       "      <td>0.323617</td>\n",
       "      <td>0.432873</td>\n",
       "    </tr>\n",
       "    <tr>\n",
       "      <th>min</th>\n",
       "      <td>900.000000</td>\n",
       "      <td>1.000000</td>\n",
       "      <td>54.000000</td>\n",
       "      <td>2500.000000</td>\n",
       "      <td>0.000000</td>\n",
       "      <td>0.000000</td>\n",
       "      <td>2.000000</td>\n",
       "      <td>0.000000</td>\n",
       "      <td>0.000000</td>\n",
       "    </tr>\n",
       "    <tr>\n",
       "      <th>25%</th>\n",
       "      <td>9490.000000</td>\n",
       "      <td>2.000000</td>\n",
       "      <td>105.000000</td>\n",
       "      <td>30091.000000</td>\n",
       "      <td>1.000000</td>\n",
       "      <td>9.100000</td>\n",
       "      <td>4.000000</td>\n",
       "      <td>0.000000</td>\n",
       "      <td>1.000000</td>\n",
       "    </tr>\n",
       "    <tr>\n",
       "      <th>50%</th>\n",
       "      <td>13690.000000</td>\n",
       "      <td>4.000000</td>\n",
       "      <td>122.000000</td>\n",
       "      <td>70163.000000</td>\n",
       "      <td>1.000000</td>\n",
       "      <td>10.500000</td>\n",
       "      <td>4.000000</td>\n",
       "      <td>0.000000</td>\n",
       "      <td>1.000000</td>\n",
       "    </tr>\n",
       "    <tr>\n",
       "      <th>75%</th>\n",
       "      <td>18800.000000</td>\n",
       "      <td>6.000000</td>\n",
       "      <td>150.000000</td>\n",
       "      <td>110000.000000</td>\n",
       "      <td>1.000000</td>\n",
       "      <td>11.700000</td>\n",
       "      <td>4.000000</td>\n",
       "      <td>0.000000</td>\n",
       "      <td>1.000000</td>\n",
       "    </tr>\n",
       "    <tr>\n",
       "      <th>max</th>\n",
       "      <td>139999.000000</td>\n",
       "      <td>15.000000</td>\n",
       "      <td>612.000000</td>\n",
       "      <td>300000.000000</td>\n",
       "      <td>1.000000</td>\n",
       "      <td>18.200000</td>\n",
       "      <td>10.000000</td>\n",
       "      <td>1.000000</td>\n",
       "      <td>1.000000</td>\n",
       "    </tr>\n",
       "  </tbody>\n",
       "</table>\n",
       "</div>"
      ],
      "text/plain": [
       "              Precio           Año      Potencia     Kilómetros       Marchas  \\\n",
       "count   24241.000000  24241.000000  24241.000000   24241.000000  24241.000000   \n",
       "mean    15309.982798      4.470278    134.202426   77856.187740      0.750258   \n",
       "std      9204.512529      3.337461     52.412662   55122.963272      0.432873   \n",
       "min       900.000000      1.000000     54.000000    2500.000000      0.000000   \n",
       "25%      9490.000000      2.000000    105.000000   30091.000000      1.000000   \n",
       "50%     13690.000000      4.000000    122.000000   70163.000000      1.000000   \n",
       "75%     18800.000000      6.000000    150.000000  110000.000000      1.000000   \n",
       "max    139999.000000     15.000000    612.000000  300000.000000      1.000000   \n",
       "\n",
       "         0-100 km/h     Cilindros      Tracción       Marchas  \n",
       "count  24241.000000  24241.000000  24241.000000  24241.000000  \n",
       "mean      10.408073      3.988449      0.150613      0.750258  \n",
       "std        2.142736      0.618031      0.323617      0.432873  \n",
       "min        0.000000      2.000000      0.000000      0.000000  \n",
       "25%        9.100000      4.000000      0.000000      1.000000  \n",
       "50%       10.500000      4.000000      0.000000      1.000000  \n",
       "75%       11.700000      4.000000      0.000000      1.000000  \n",
       "max       18.200000     10.000000      1.000000      1.000000  "
      ]
     },
     "execution_count": 106,
     "metadata": {},
     "output_type": "execute_result"
    }
   ],
   "source": [
    "df1t = df1[['Precio','Año','Potencia','Kilómetros','Marchas','0-100 km/h','Cilindros','Tracción','Marchas']]\n",
    "df1t.describe()"
   ]
  },
  {
   "cell_type": "code",
   "execution_count": 107,
   "metadata": {},
   "outputs": [
    {
     "name": "stdout",
     "output_type": "stream",
     "text": [
      "AxesSubplot(0.125,0.125;0.62x0.755)\n"
     ]
    },
    {
     "data": {
      "image/png": "[encoded data removed]",
      "text/plain": [
       "<matplotlib.figure.Figure at 0x7f07e6cd80b8>"
      ]
     },
     "metadata": {
      "needs_background": "light"
     },
     "output_type": "display_data"
    }
   ],
   "source": [
    "corrt = df1t.corr()\n",
    "print(sns.heatmap(corrt))"
   ]
  },
  {
   "cell_type": "code",
   "execution_count": 108,
   "metadata": {},
   "outputs": [
    {
     "name": "stdout",
     "output_type": "stream",
     "text": [
      "(24241, 26)\n"
     ]
    }
   ],
   "source": [
    "print(df1.shape)"
   ]
  },
  {
   "cell_type": "code",
   "execution_count": 109,
   "metadata": {},
   "outputs": [],
   "source": [
    "##dfbrands=df1['Brand'].value_counts()\n",
    "##dfbrands.to_csv('./output/dfbrands.csv',index=True)\n",
    "\n",
    "##dfmodels=df1['Model'].value_counts()\n",
    "##dfmodels.to_csv('./output/dfmodels.csv',index=True)"
   ]
  },
  {
   "cell_type": "code",
   "execution_count": 116,
   "metadata": {},
   "outputs": [],
   "source": [
    "##Reassiging Brands\n",
    "Brand_dict={\n",
    "'Porsche':1,\n",
    "'Land Rover':1,\n",
    "'Bmw':1,\n",
    "'Audi':1,\n",
    "'Mercedes':1,\n",
    "'Mini':1,\n",
    "'Lexus':1,\n",
    "'Volvo':1,\n",
    "'Volkswagen':0.7,\n",
    "'Mazda':0.5,\n",
    "'Honda':0.5,\n",
    "'Nissan':0.5,\n",
    "'Toyota':0.5,\n",
    "'Ford':0.4,\n",
    "'Opel':0.3,\n",
    "'Peugeot':0.3,\n",
    "'Renault':0.1,\n",
    "'Seat':0.1,\n",
    "'Citroen':0.1,\n",
    "'Hyundai':0.1,\n",
    "'Fiat':0.1,\n",
    "'Kia':0.1,\n",
    "'Skoda':0.1\n",
    "}"
   ]
  },
  {
   "cell_type": "code",
   "execution_count": 117,
   "metadata": {},
   "outputs": [],
   "source": [
    "df1['Brand_bin']=[Brand_dict[i] for i in df1['Brand']]\n",
    "df1['Brand_bin']=df1['Brand_bin'].astype('float')"
   ]
  },
  {
   "cell_type": "code",
   "execution_count": 118,
   "metadata": {},
   "outputs": [],
   "source": [
    "def columnBining(df,column,bins):\n",
    "    newcolumn=column+\"_bin\"\n",
    "    labels=[float((i+1)/bins)for i in range(bins)]\n",
    "    df[newcolumn]=pd.qcut(df[column],bins,labels=labels)\n",
    "    df[newcolumn]=df[newcolumn].astype('float')\n",
    "    return df[newcolumn]"
   ]
  },
  {
   "cell_type": "code",
   "execution_count": 113,
   "metadata": {},
   "outputs": [
    {
     "ename": "SyntaxError",
     "evalue": "EOF while scanning triple-quoted string literal (<ipython-input-113-4d19bec500d6>, line 12)",
     "output_type": "error",
     "traceback": [
      "\u001b[0;36m  File \u001b[0;32m\"<ipython-input-113-4d19bec500d6>\"\u001b[0;36m, line \u001b[0;32m12\u001b[0m\n\u001b[0;31m    columnBining(df1,i,Bins[i])\u001b[0m\n\u001b[0m                               \n^\u001b[0m\n\u001b[0;31mSyntaxError\u001b[0m\u001b[0;31m:\u001b[0m EOF while scanning triple-quoted string literal\n"
     ]
    }
   ],
   "source": [
    "'''\n",
    "##Bining of longitud/peso to try to adjust for brands distinct models\n",
    "##param\n",
    "ColumnsBin=['Longitud','Kilómetros','Peso','Potencia']\n",
    "Bins={'Longitud':8,\n",
    "      'Kilómetros':8,\n",
    "      'Peso':8,\n",
    "      'Potencia':8\n",
    "     }\n",
    "\n",
    "for i in ColumnsBin:\n",
    "    columnBining(df1,i,Bins[i])\n",
    "'''"
   ]
  },
  {
   "cell_type": "code",
   "execution_count": 120,
   "metadata": {},
   "outputs": [
    {
     "name": "stdout",
     "output_type": "stream",
     "text": [
      "(24241, 29)\n"
     ]
    }
   ],
   "source": [
    "print(df1.shape)"
   ]
  },
  {
   "cell_type": "code",
   "execution_count": 110,
   "metadata": {},
   "outputs": [],
   "source": [
    "df1 = pd.get_dummies(df1, columns=['Combustible'])\n",
    "df1 = pd.get_dummies(df1, columns=['Brand'])\n",
    "df1 = pd.get_dummies(df1, columns=['Carrocería'])"
   ]
  },
  {
   "cell_type": "code",
   "execution_count": 111,
   "metadata": {},
   "outputs": [],
   "source": [
    "def normalization(df,column):\n",
    "    df[column]=(df[column]-np.mean(df[column]))/np.std(df[column])\n",
    "    return df[column]"
   ]
  },
  {
   "cell_type": "code",
   "execution_count": 112,
   "metadata": {},
   "outputs": [],
   "source": [
    "def normalizationmaxmin(df,column):\n",
    "    df[column]=(df[column]-(df[column]).min())/((df[column]).max()-(df[column]).min())\n",
    "    return df[column]"
   ]
  },
  {
   "cell_type": "code",
   "execution_count": 114,
   "metadata": {},
   "outputs": [],
   "source": [
    "ColumnsNorm=['Emisiones','Longitud','Plazas','Peso','Cilindros','Vel. máxima','C. mixto','C. urbano','Extraurbano','0-100 km/h','Cilindrada','Cilindros','Par máximo',\"Año\",'Potencia','Kilómetros']\n",
    "##ColumnsNormmaxmin=[\"Año\",'Potencia','Kilómetros']\n",
    "\n",
    "for col in ColumnsNorm:\n",
    "    normalization(df1,col)\n",
    "\n",
    "##for col in ColumnsNormmaxmin:\n",
    "##    normalizationmaxmin(df1,col)"
   ]
  },
  {
   "cell_type": "code",
   "execution_count": 116,
   "metadata": {},
   "outputs": [
    {
     "name": "stdout",
     "output_type": "stream",
     "text": [
      "AxesSubplot(0.125,0.125;0.62x0.755)\n"
     ]
    },
    {
     "data": {
      "image/png": "[encoded data removed]",
      "text/plain": [
       "<matplotlib.figure.Figure at 0x7f0794a6c3c8>"
      ]
     },
     "metadata": {
      "needs_background": "light"
     },
     "output_type": "display_data"
    }
   ],
   "source": [
    "##Checking correlation\n",
    "df2 = df1[['Precio','Año','Potencia','Kilómetros','Cilindros','Vel. máxima','Longitud']]\n",
    "corr2 = df2.corr()\n",
    "print(sns.heatmap(corr2))"
   ]
  },
  {
   "cell_type": "code",
   "execution_count": 117,
   "metadata": {},
   "outputs": [
    {
     "data": {
      "text/html": [
       "<div>\n",
       "<style scoped>\n",
       "    .dataframe tbody tr th:only-of-type {\n",
       "        vertical-align: middle;\n",
       "    }\n",
       "\n",
       "    .dataframe tbody tr th {\n",
       "        vertical-align: top;\n",
       "    }\n",
       "\n",
       "    .dataframe thead th {\n",
       "        text-align: right;\n",
       "    }\n",
       "</style>\n",
       "<table border=\"1\" class=\"dataframe\">\n",
       "  <thead>\n",
       "    <tr style=\"text-align: right;\">\n",
       "      <th></th>\n",
       "      <th>Precio</th>\n",
       "      <th>Año</th>\n",
       "      <th>Potencia</th>\n",
       "      <th>Kilómetros</th>\n",
       "      <th>Cilindros</th>\n",
       "      <th>Vel. máxima</th>\n",
       "      <th>Longitud</th>\n",
       "    </tr>\n",
       "  </thead>\n",
       "  <tbody>\n",
       "    <tr>\n",
       "      <th>count</th>\n",
       "      <td>24241.000000</td>\n",
       "      <td>2.424100e+04</td>\n",
       "      <td>2.424100e+04</td>\n",
       "      <td>2.424100e+04</td>\n",
       "      <td>2.424100e+04</td>\n",
       "      <td>2.424100e+04</td>\n",
       "      <td>2.424100e+04</td>\n",
       "    </tr>\n",
       "    <tr>\n",
       "      <th>mean</th>\n",
       "      <td>15309.982798</td>\n",
       "      <td>-2.344929e-17</td>\n",
       "      <td>2.767016e-16</td>\n",
       "      <td>8.910729e-17</td>\n",
       "      <td>2.227682e-17</td>\n",
       "      <td>-3.071857e-16</td>\n",
       "      <td>-1.758697e-16</td>\n",
       "    </tr>\n",
       "    <tr>\n",
       "      <th>std</th>\n",
       "      <td>9204.512529</td>\n",
       "      <td>1.000021e+00</td>\n",
       "      <td>1.000021e+00</td>\n",
       "      <td>1.000021e+00</td>\n",
       "      <td>1.000021e+00</td>\n",
       "      <td>1.000021e+00</td>\n",
       "      <td>1.000021e+00</td>\n",
       "    </tr>\n",
       "    <tr>\n",
       "      <th>min</th>\n",
       "      <td>900.000000</td>\n",
       "      <td>-1.039817e+00</td>\n",
       "      <td>-1.530242e+00</td>\n",
       "      <td>-1.367084e+00</td>\n",
       "      <td>-3.217461e+00</td>\n",
       "      <td>-2.739848e+00</td>\n",
       "      <td>-3.226294e+00</td>\n",
       "    </tr>\n",
       "    <tr>\n",
       "      <th>25%</th>\n",
       "      <td>9490.000000</td>\n",
       "      <td>-7.401819e-01</td>\n",
       "      <td>-5.571751e-01</td>\n",
       "      <td>-8.665386e-01</td>\n",
       "      <td>1.868987e-02</td>\n",
       "      <td>-7.304864e-01</td>\n",
       "      <td>-5.462824e-01</td>\n",
       "    </tr>\n",
       "    <tr>\n",
       "      <th>50%</th>\n",
       "      <td>13690.000000</td>\n",
       "      <td>-1.409117e-01</td>\n",
       "      <td>-2.328193e-01</td>\n",
       "      <td>-1.395670e-01</td>\n",
       "      <td>1.868987e-02</td>\n",
       "      <td>-9.337171e-02</td>\n",
       "      <td>-1.689747e-02</td>\n",
       "    </tr>\n",
       "    <tr>\n",
       "      <th>75%</th>\n",
       "      <td>18800.000000</td>\n",
       "      <td>4.583585e-01</td>\n",
       "      <td>3.014138e-01</td>\n",
       "      <td>5.831413e-01</td>\n",
       "      <td>1.868987e-02</td>\n",
       "      <td>6.417607e-01</td>\n",
       "      <td>7.771800e-01</td>\n",
       "    </tr>\n",
       "    <tr>\n",
       "      <th>max</th>\n",
       "      <td>139999.000000</td>\n",
       "      <td>3.155075e+00</td>\n",
       "      <td>9.116260e+00</td>\n",
       "      <td>4.030052e+00</td>\n",
       "      <td>9.727141e+00</td>\n",
       "      <td>5.052555e+00</td>\n",
       "      <td>2.034469e+00</td>\n",
       "    </tr>\n",
       "  </tbody>\n",
       "</table>\n",
       "</div>"
      ],
      "text/plain": [
       "              Precio           Año      Potencia    Kilómetros     Cilindros  \\\n",
       "count   24241.000000  2.424100e+04  2.424100e+04  2.424100e+04  2.424100e+04   \n",
       "mean    15309.982798 -2.344929e-17  2.767016e-16  8.910729e-17  2.227682e-17   \n",
       "std      9204.512529  1.000021e+00  1.000021e+00  1.000021e+00  1.000021e+00   \n",
       "min       900.000000 -1.039817e+00 -1.530242e+00 -1.367084e+00 -3.217461e+00   \n",
       "25%      9490.000000 -7.401819e-01 -5.571751e-01 -8.665386e-01  1.868987e-02   \n",
       "50%     13690.000000 -1.409117e-01 -2.328193e-01 -1.395670e-01  1.868987e-02   \n",
       "75%     18800.000000  4.583585e-01  3.014138e-01  5.831413e-01  1.868987e-02   \n",
       "max    139999.000000  3.155075e+00  9.116260e+00  4.030052e+00  9.727141e+00   \n",
       "\n",
       "        Vel. máxima      Longitud  \n",
       "count  2.424100e+04  2.424100e+04  \n",
       "mean  -3.071857e-16 -1.758697e-16  \n",
       "std    1.000021e+00  1.000021e+00  \n",
       "min   -2.739848e+00 -3.226294e+00  \n",
       "25%   -7.304864e-01 -5.462824e-01  \n",
       "50%   -9.337171e-02 -1.689747e-02  \n",
       "75%    6.417607e-01  7.771800e-01  \n",
       "max    5.052555e+00  2.034469e+00  "
      ]
     },
     "execution_count": 117,
     "metadata": {},
     "output_type": "execute_result"
    }
   ],
   "source": [
    "df2.describe()"
   ]
  },
  {
   "cell_type": "code",
   "execution_count": 118,
   "metadata": {},
   "outputs": [],
   "source": [
    "##weighted params\n",
    "n_km=1\n",
    "n_ano=1.1\n",
    "n_pot=1.1\n",
    "\n",
    "###df1.dtypes\n",
    "df1[\"Kilómetros\"]=df1[\"Kilómetros\"]*n_km\n",
    "df1[\"Año\"]=df1[\"Año\"]*n_ano\n",
    "df1[\"Potencia\"]=df1[\"Potencia\"]*n_pot"
   ]
  },
  {
   "cell_type": "code",
   "execution_count": 119,
   "metadata": {},
   "outputs": [
    {
     "name": "stdout",
     "output_type": "stream",
     "text": [
      "'Precio'\n",
      "'Año'\n",
      "'Potencia'\n",
      "'Kilómetros'\n",
      "'Puertas'\n",
      "'Cambio'\n",
      "'Emisiones'\n",
      "'Longitud'\n",
      "'Plazas'\n",
      "'Peso'\n",
      "'Vel. máxima'\n",
      "'C. mixto'\n",
      "'C. urbano'\n",
      "'Extraurbano'\n",
      "'0-100 km/h'\n",
      "'Cilindrada'\n",
      "'Cilindros'\n",
      "'Par máximo'\n",
      "'Marchas'\n",
      "'Tracción'\n",
      "'model'\n",
      "'Provincia'\n",
      "'Model'\n",
      "'Combustible_Diesel'\n",
      "'Combustible_Gasolina'\n",
      "'Brand_Audi'\n",
      "'Brand_Bmw'\n",
      "'Brand_Citroen'\n",
      "'Brand_Fiat'\n",
      "'Brand_Ford'\n",
      "'Brand_Hyundai'\n",
      "'Brand_Kia'\n",
      "'Brand_Land Rover'\n",
      "'Brand_Mazda'\n",
      "'Brand_Mercedes'\n",
      "'Brand_Mini'\n",
      "'Brand_Nissan'\n",
      "'Brand_Opel'\n",
      "'Brand_Peugeot'\n",
      "'Brand_Porsche'\n",
      "'Brand_Renault'\n",
      "'Brand_Seat'\n",
      "'Brand_Skoda'\n",
      "'Brand_Toyota'\n",
      "'Brand_Volkswagen'\n",
      "'Brand_Volvo'\n",
      "'Carrocería_Berlina'\n",
      "'Carrocería_Monovolumen'\n",
      "'Carrocería_Stationwagon'\n",
      "'Carrocería_Todo Terreno'\n"
     ]
    }
   ],
   "source": [
    "for col in df1.columns: \n",
    "    print(\"'\"+col+\"'\") "
   ]
  },
  {
   "cell_type": "code",
   "execution_count": 120,
   "metadata": {},
   "outputs": [],
   "source": [
    "df1.to_csv('./output/cars_clean.csv', index=False)"
   ]
  },
  {
   "cell_type": "code",
   "execution_count": 121,
   "metadata": {},
   "outputs": [],
   "source": [
    "# Importing libraries:\n",
    "%matplotlib inline\n",
    "import matplotlib.pyplot as plt\n",
    "import seaborn as sns\n",
    "\n",
    "from sklearn.model_selection import train_test_split\n",
    "from sklearn.linear_model import LinearRegression\n",
    "from sklearn.metrics import r2_score\n",
    "from sklearn.metrics import mean_squared_error\n",
    "from sklearn.metrics import confusion_matrix, accuracy_score\n",
    "\n",
    "from sklearn.ensemble import RandomForestRegressor\n",
    "from sklearn.datasets import make_classification\n",
    "from sklearn.ensemble import GradientBoostingRegressor\n",
    "from sklearn.linear_model import LinearRegression\n",
    "\n",
    "from math import sqrt"
   ]
  },
  {
   "cell_type": "code",
   "execution_count": 123,
   "metadata": {},
   "outputs": [
    {
     "name": "stdout",
     "output_type": "stream",
     "text": [
      "(24241, 37) (24241,)\n",
      "(19392, 37) (4849, 37) (19392,) (4849,)\n"
     ]
    }
   ],
   "source": [
    "##columns = ['Año','Potencia','Kilómetros','Puertas','Emisiones','Longitud','Par máximo','Peso','Cilindros',\n",
    "##           'Marchas','Tracción','Combustible_Diesel','Combustible_Eléctrico','Vel. máxima','C. mixto','0-100 km/h','Extraurbano']\n",
    "\n",
    "columns = [\n",
    "'Año',\n",
    "'Potencia',\n",
    "'Kilómetros',\n",
    "'Puertas',\n",
    "'Cambio',\n",
    "'Cilindros',\n",
    "'Marchas',\n",
    "'Tracción',\n",
    "'Longitud',\n",
    "'Plazas',\n",
    "'Combustible_Diesel',\n",
    "'Combustible_Gasolina',\n",
    "'Brand_Audi',\n",
    "'Brand_Bmw',\n",
    "'Brand_Citroen',\n",
    "'Brand_Fiat',\n",
    "'Brand_Ford',\n",
    "'Brand_Hyundai',\n",
    "'Brand_Kia',\n",
    "'Brand_Land Rover',\n",
    "'Brand_Mazda',\n",
    "'Brand_Mercedes',\n",
    "'Brand_Mini',\n",
    "'Brand_Nissan',\n",
    "'Brand_Opel',\n",
    "'Brand_Peugeot',\n",
    "'Brand_Porsche',\n",
    "'Brand_Renault',\n",
    "'Brand_Seat',\n",
    "'Brand_Skoda',\n",
    "'Brand_Toyota',\n",
    "'Brand_Volkswagen',\n",
    "'Brand_Volvo',\n",
    "'Carrocería_Berlina',\n",
    "'Carrocería_Monovolumen',\n",
    "'Carrocería_Stationwagon',\n",
    "'Carrocería_Todo Terreno'\n",
    "]\n",
    "\n",
    "X = df1[columns]\n",
    "y = df1['Precio']\n",
    "\n",
    "X_train, X_test, y_train, y_test = train_test_split(X, y, test_size=0.20)\n",
    "print(X.shape,y.shape)\n",
    "print(X_train.shape, X_test.shape, y_train.shape, y_test.shape)\n",
    "##display(X.head())\n",
    "##display(y.head())"
   ]
  },
  {
   "cell_type": "code",
   "execution_count": 124,
   "metadata": {},
   "outputs": [],
   "source": [
    "#clf = reg = LinearRegression()\n",
    "clf = RandomForestRegressor(n_estimators=300)\n",
    "#clf = reg = GradientBoostingRegressor()"
   ]
  },
  {
   "cell_type": "code",
   "execution_count": 125,
   "metadata": {},
   "outputs": [
    {
     "data": {
      "text/plain": [
       "RandomForestRegressor(bootstrap=True, ccp_alpha=0.0, criterion='mse',\n",
       "                      max_depth=None, max_features='auto', max_leaf_nodes=None,\n",
       "                      max_samples=None, min_impurity_decrease=0.0,\n",
       "                      min_impurity_split=None, min_samples_leaf=1,\n",
       "                      min_samples_split=2, min_weight_fraction_leaf=0.0,\n",
       "                      n_estimators=300, n_jobs=None, oob_score=False,\n",
       "                      random_state=None, verbose=0, warm_start=False)"
      ]
     },
     "execution_count": 125,
     "metadata": {},
     "output_type": "execute_result"
    }
   ],
   "source": [
    "clf.fit(X_train, y_train)"
   ]
  },
  {
   "cell_type": "code",
   "execution_count": 126,
   "metadata": {},
   "outputs": [],
   "source": [
    "y_predr = clf.predict(X_test)"
   ]
  },
  {
   "cell_type": "code",
   "execution_count": 127,
   "metadata": {},
   "outputs": [
    {
     "name": "stdout",
     "output_type": "stream",
     "text": [
      "r2_score is: 0.9410519517583741\n",
      "rmse is: 2235.9810912576945\n"
     ]
    }
   ],
   "source": [
    "r2_score=r2_score(y_test, y_predr)\n",
    "print(\"r2_score is: {}\".format(r2_score))\n",
    "rmse = sqrt(mean_squared_error(y_test, y_predr))\n",
    "print(\"rmse is: {}\".format(rmse))"
   ]
  },
  {
   "cell_type": "code",
   "execution_count": 268,
   "metadata": {},
   "outputs": [],
   "source": [
    "## RandomForestRegressor(n_estimators=250)\n",
    "##r2_score is: 0.955718173117974\n",
    "##rmse is: 1867.7555784521455"
   ]
  },
  {
   "cell_type": "code",
   "execution_count": 269,
   "metadata": {},
   "outputs": [],
   "source": [
    "## GradientBoostingRegressor()\n",
    "##r2_score is: 0.9270101386305405\n",
    "##rmse is: 3195.9955213308585"
   ]
  },
  {
   "cell_type": "code",
   "execution_count": null,
   "metadata": {},
   "outputs": [],
   "source": []
  }
 ],
 "metadata": {
  "kernelspec": {
   "display_name": "Python 3",
   "language": "python",
   "name": "python3"
  },
  "language_info": {
   "codemirror_mode": {
    "name": "ipython",
    "version": 3
   },
   "file_extension": ".py",
   "mimetype": "text/x-python",
   "name": "python",
   "nbconvert_exporter": "python",
   "pygments_lexer": "ipython3",
   "version": "3.6.9"
  }
 },
 "nbformat": 4,
 "nbformat_minor": 2
}
