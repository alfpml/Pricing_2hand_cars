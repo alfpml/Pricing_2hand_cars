{
 "cells": [
  {
   "cell_type": "code",
   "execution_count": 2,
   "metadata": {},
   "outputs": [],
   "source": [
    "import src.clean_functions as cl_f\n",
    "import parameters as prm\n",
    "import mongoconnect as mc\n",
    "import clean as cln\n",
    "import model as mdl\n",
    "import car_input as ci\n",
    "\n",
    "import pandas as pd\n",
    "import numpy as np\n",
    "import json\n",
    "import re\n",
    "from pymongo import MongoClient\n",
    "import getpass"
   ]
  },
  {
   "cell_type": "code",
   "execution_count": 3,
   "metadata": {},
   "outputs": [
    {
     "name": "stdout",
     "output_type": "stream",
     "text": [
      "connection ready\n"
     ]
    }
   ],
   "source": [
    "##1. Connect to DB\n",
    "client = MongoClient(mc.connection)\n",
    "db, coll = mc.connectCollection('carpricing','cars')\n",
    "print(\"connection ready\")\n",
    "##query = {'Brand':ci.InputBrand}\n",
    "##Brand_q = coll.find(query)"
   ]
  },
  {
   "cell_type": "code",
   "execution_count": 4,
   "metadata": {},
   "outputs": [],
   "source": [
    "def dropcolumns(df,columnsdrop):\n",
    "    df.drop(columnsdrop, axis=1, inplace=True)\n",
    "    df=df.dropna()\n",
    "    return df"
   ]
  },
  {
   "cell_type": "code",
   "execution_count": 5,
   "metadata": {},
   "outputs": [],
   "source": [
    "columnsdrop=['Emisiones','Peso','0-100km/h','Cilindrada','Transmision','Parmaximo','Curbano','Extraurbano','Cmixto','Plazas']"
   ]
  },
  {
   "cell_type": "code",
   "execution_count": 6,
   "metadata": {},
   "outputs": [
    {
     "name": "stdout",
     "output_type": "stream",
     "text": [
      "Dataset imported from Mongo\n",
      "       _id Precio   Ano Potencia Kilometros Combustible Puertas  Cambio  \\\n",
      "31159  NaN   4000  2005      140     144000      Diesel       5  Manual   \n",
      "\n",
      "      Longitud Carroceria Velocidad Cilindros Marchas   Traccion Brand  \\\n",
      "31159      420    Berlina       207         4     NaN  Delantera  Audi   \n",
      "\n",
      "         Model  inputcar  \n",
      "31159  Audi A3         1  \n",
      "Input car added to df\n"
     ]
    }
   ],
   "source": [
    "Brand_q = coll.find()\n",
    "dfBrand=pd.DataFrame(Brand_q)\n",
    "dfBrand=dropcolumns(dfBrand,columnsdrop)\n",
    "dfBrand['inputcar']=0\n",
    "print(\"Dataset imported from Mongo\")\n",
    "\n",
    "dfBrand = dfBrand.append(ci.input_car,ignore_index=True)\n",
    "print(dfBrand[dfBrand['inputcar']==1])\n",
    "print(\"Input car added to df\")"
   ]
  },
  {
   "cell_type": "code",
   "execution_count": 7,
   "metadata": {},
   "outputs": [
    {
     "data": {
      "text/plain": [
       "Index(['6', '5', '7', '8', '9', '4', ' secuencial\"', ' sin caja de cambios\"',\n",
       "       '3', '1', '10'],\n",
       "      dtype='object')"
      ]
     },
     "execution_count": 7,
     "metadata": {},
     "output_type": "execute_result"
    }
   ],
   "source": [
    "dfBrand.Marchas.value_counts().index"
   ]
  },
  {
   "cell_type": "code",
   "execution_count": 8,
   "metadata": {},
   "outputs": [
    {
     "ename": "SyntaxError",
     "evalue": "unexpected EOF while parsing (<ipython-input-8-aa5919e9ba0c>, line 2)",
     "output_type": "error",
     "traceback": [
      "\u001b[0;36m  File \u001b[0;32m\"<ipython-input-8-aa5919e9ba0c>\"\u001b[0;36m, line \u001b[0;32m2\u001b[0m\n\u001b[0;31m    display(df1dfBrand\u001b[0m\n\u001b[0m                      ^\u001b[0m\n\u001b[0;31mSyntaxError\u001b[0m\u001b[0;31m:\u001b[0m unexpected EOF while parsing\n"
     ]
    }
   ],
   "source": [
    "dfBrand=dfBrand.dropna()\n",
    "display(df1dfBrand"
   ]
  },
  {
   "cell_type": "code",
   "execution_count": null,
   "metadata": {},
   "outputs": [],
   "source": [
    "df1['Potencia']=df1['Potencia'].astype('float', errors='ignore')\n",
    "df1['Cilindros']=df1['Cilindros'].astype('float', errors='ignore')\n",
    "df1['Puertas']=df1['Puertas'].astype('float', errors='ignore')\n",
    "df1['Marchas']=df1['Marchas'].astype('float', errors='ignore')\n",
    "\n",
    "df1[pd.to_numeric(df1['Marchas'], errors='coerce').notnull()]"
   ]
  },
  {
   "cell_type": "code",
   "execution_count": null,
   "metadata": {},
   "outputs": [],
   "source": [
    "display(df1)"
   ]
  },
  {
   "cell_type": "code",
   "execution_count": 9,
   "metadata": {},
   "outputs": [
    {
     "ename": "NameError",
     "evalue": "name 'df1' is not defined",
     "output_type": "error",
     "traceback": [
      "\u001b[0;31m---------------------------------------------------------------------------\u001b[0m",
      "\u001b[0;31mNameError\u001b[0m                                 Traceback (most recent call last)",
      "\u001b[0;32m<ipython-input-9-1f8b4815aad3>\u001b[0m in \u001b[0;36m<module>\u001b[0;34m\u001b[0m\n\u001b[0;32m----> 1\u001b[0;31m \u001b[0mdf1\u001b[0m\u001b[0;34m[\u001b[0m\u001b[0;34m'Kilometros'\u001b[0m\u001b[0;34m]\u001b[0m\u001b[0;34m=\u001b[0m\u001b[0mdf1\u001b[0m\u001b[0;34m[\u001b[0m\u001b[0;34m'Kilometros'\u001b[0m\u001b[0;34m]\u001b[0m\u001b[0;34m.\u001b[0m\u001b[0mastype\u001b[0m\u001b[0;34m(\u001b[0m\u001b[0;34m'float'\u001b[0m\u001b[0;34m,\u001b[0m \u001b[0merrors\u001b[0m\u001b[0;34m=\u001b[0m\u001b[0;34m'ignore'\u001b[0m\u001b[0;34m)\u001b[0m\u001b[0;34m\u001b[0m\u001b[0;34m\u001b[0m\u001b[0m\n\u001b[0m\u001b[1;32m      2\u001b[0m \u001b[0mdf1\u001b[0m\u001b[0;34m[\u001b[0m\u001b[0;34m'Precio'\u001b[0m\u001b[0;34m]\u001b[0m\u001b[0;34m=\u001b[0m\u001b[0mdf1\u001b[0m\u001b[0;34m[\u001b[0m\u001b[0;34m'Precio'\u001b[0m\u001b[0;34m]\u001b[0m\u001b[0;34m.\u001b[0m\u001b[0mastype\u001b[0m\u001b[0;34m(\u001b[0m\u001b[0;34m'float'\u001b[0m\u001b[0;34m,\u001b[0m \u001b[0merrors\u001b[0m\u001b[0;34m=\u001b[0m\u001b[0;34m'ignore'\u001b[0m\u001b[0;34m)\u001b[0m\u001b[0;34m\u001b[0m\u001b[0;34m\u001b[0m\u001b[0m\n\u001b[1;32m      3\u001b[0m \u001b[0mdf1\u001b[0m\u001b[0;34m[\u001b[0m\u001b[0;34m'Longitud'\u001b[0m\u001b[0;34m]\u001b[0m\u001b[0;34m=\u001b[0m\u001b[0mdf1\u001b[0m\u001b[0;34m[\u001b[0m\u001b[0;34m'Longitud'\u001b[0m\u001b[0;34m]\u001b[0m\u001b[0;34m.\u001b[0m\u001b[0mastype\u001b[0m\u001b[0;34m(\u001b[0m\u001b[0;34m'float'\u001b[0m\u001b[0;34m,\u001b[0m \u001b[0merrors\u001b[0m\u001b[0;34m=\u001b[0m\u001b[0;34m'ignore'\u001b[0m\u001b[0;34m)\u001b[0m\u001b[0;34m\u001b[0m\u001b[0;34m\u001b[0m\u001b[0m\n\u001b[1;32m      4\u001b[0m \u001b[0mdf1\u001b[0m\u001b[0;34m[\u001b[0m\u001b[0;34m'Velocidad'\u001b[0m\u001b[0;34m]\u001b[0m\u001b[0;34m=\u001b[0m\u001b[0mdf1\u001b[0m\u001b[0;34m[\u001b[0m\u001b[0;34m'Velocidad'\u001b[0m\u001b[0;34m]\u001b[0m\u001b[0;34m.\u001b[0m\u001b[0mastype\u001b[0m\u001b[0;34m(\u001b[0m\u001b[0;34m'float'\u001b[0m\u001b[0;34m,\u001b[0m \u001b[0merrors\u001b[0m\u001b[0;34m=\u001b[0m\u001b[0;34m'ignore'\u001b[0m\u001b[0;34m)\u001b[0m\u001b[0;34m\u001b[0m\u001b[0;34m\u001b[0m\u001b[0m\n\u001b[1;32m      5\u001b[0m \u001b[0;31m##df1['Cmixto']=df1['Cmixto'].dropna().astype('float', errors='ignore')\u001b[0m\u001b[0;34m\u001b[0m\u001b[0;34m\u001b[0m\u001b[0;34m\u001b[0m\u001b[0m\n",
      "\u001b[0;31mNameError\u001b[0m: name 'df1' is not defined"
     ]
    }
   ],
   "source": [
    "df1['Kilometros']=df1['Kilometros'].astype('float', errors='ignore')\n",
    "df1['Precio']=df1['Precio'].astype('float', errors='ignore')\n",
    "df1['Longitud']=df1['Longitud'].astype('float', errors='ignore')\n",
    "df1['Velocidad']=df1['Velocidad'].astype('float', errors='ignore')\n",
    "##df1['Cmixto']=df1['Cmixto'].dropna().astype('float', errors='ignore')\n",
    "df1=df1.dropna()\n",
    "print(\"casting\")"
   ]
  },
  {
   "cell_type": "code",
   "execution_count": 10,
   "metadata": {},
   "outputs": [
    {
     "ename": "NameError",
     "evalue": "name 'df1' is not defined",
     "output_type": "error",
     "traceback": [
      "\u001b[0;31m---------------------------------------------------------------------------\u001b[0m",
      "\u001b[0;31mNameError\u001b[0m                                 Traceback (most recent call last)",
      "\u001b[0;32m<ipython-input-10-a9b7aafd475e>\u001b[0m in \u001b[0;36m<module>\u001b[0;34m\u001b[0m\n\u001b[0;32m----> 1\u001b[0;31m \u001b[0mdisplay\u001b[0m\u001b[0;34m(\u001b[0m\u001b[0mdf1\u001b[0m\u001b[0;34m)\u001b[0m\u001b[0;34m\u001b[0m\u001b[0;34m\u001b[0m\u001b[0m\n\u001b[0m",
      "\u001b[0;31mNameError\u001b[0m: name 'df1' is not defined"
     ]
    }
   ],
   "source": [
    "display(df1)"
   ]
  },
  {
   "cell_type": "code",
   "execution_count": 74,
   "metadata": {},
   "outputs": [
    {
     "name": "stdout",
     "output_type": "stream",
     "text": [
      "encoding categorical\n"
     ]
    }
   ],
   "source": [
    "##Encoding categorical variables\n",
    "df1['Cambio']=[cl_f.cambio(i) for i in df1['Cambio']]\n",
    "df1['Traccion']=[cl_f.traccion(i) for i in df1['Traccion']]\n",
    "df1['Puertas']=[cl_f.puertas(i) for i in df1['Puertas']]\n",
    "df1['Marchas']=[cl_f.marchas(i) for i in df1['Marchas']]\n",
    "print(\"encoding categorical\")"
   ]
  },
  {
   "cell_type": "code",
   "execution_count": 75,
   "metadata": {},
   "outputs": [
    {
     "data": {
      "text/html": [
       "<div>\n",
       "<style scoped>\n",
       "    .dataframe tbody tr th:only-of-type {\n",
       "        vertical-align: middle;\n",
       "    }\n",
       "\n",
       "    .dataframe tbody tr th {\n",
       "        vertical-align: top;\n",
       "    }\n",
       "\n",
       "    .dataframe thead th {\n",
       "        text-align: right;\n",
       "    }\n",
       "</style>\n",
       "<table border=\"1\" class=\"dataframe\">\n",
       "  <thead>\n",
       "    <tr style=\"text-align: right;\">\n",
       "      <th></th>\n",
       "      <th>Precio</th>\n",
       "      <th>Brand</th>\n",
       "      <th>Model</th>\n",
       "      <th>Ano</th>\n",
       "      <th>Potencia</th>\n",
       "      <th>Kilometros</th>\n",
       "      <th>Puertas</th>\n",
       "      <th>Cambio</th>\n",
       "      <th>Longitud</th>\n",
       "      <th>Velocidad</th>\n",
       "      <th>Cilindros</th>\n",
       "      <th>Marchas</th>\n",
       "      <th>Traccion</th>\n",
       "      <th>Combustible</th>\n",
       "      <th>Carroceria</th>\n",
       "      <th>inputcar</th>\n",
       "    </tr>\n",
       "  </thead>\n",
       "  <tbody>\n",
       "    <tr>\n",
       "      <th>0</th>\n",
       "      <td>4000.0</td>\n",
       "      <td>Audi</td>\n",
       "      <td>Audi A3</td>\n",
       "      <td>2005</td>\n",
       "      <td>140.0</td>\n",
       "      <td>144000.0</td>\n",
       "      <td>1</td>\n",
       "      <td>0</td>\n",
       "      <td>420.0</td>\n",
       "      <td>207.0</td>\n",
       "      <td>4.0</td>\n",
       "      <td>1</td>\n",
       "      <td>0</td>\n",
       "      <td>Diesel</td>\n",
       "      <td>Berlina</td>\n",
       "      <td>1</td>\n",
       "    </tr>\n",
       "  </tbody>\n",
       "</table>\n",
       "</div>"
      ],
      "text/plain": [
       "   Precio Brand    Model   Ano  Potencia  Kilometros  Puertas  Cambio  \\\n",
       "0  4000.0  Audi  Audi A3  2005     140.0    144000.0        1       0   \n",
       "\n",
       "   Longitud  Velocidad  Cilindros  Marchas  Traccion Combustible Carroceria  \\\n",
       "0     420.0      207.0        4.0        1         0      Diesel    Berlina   \n",
       "\n",
       "   inputcar  \n",
       "0         1  "
      ]
     },
     "metadata": {},
     "output_type": "display_data"
    }
   ],
   "source": [
    "display(df1)"
   ]
  },
  {
   "cell_type": "code",
   "execution_count": 76,
   "metadata": {},
   "outputs": [
    {
     "name": "stdout",
     "output_type": "stream",
     "text": [
      "encoding año\n"
     ]
    }
   ],
   "source": [
    "##Encoding column año\n",
    "df1['Ano'] = df1['Ano'].str[-4:]\n",
    "df1=df1.dropna()\n",
    "df1['Ano'] = df1['Ano'].astype('float', errors='ignore')\n",
    "df1['Ano']=2019-df1['Ano']\n",
    "print(\"encoding año\")"
   ]
  },
  {
   "cell_type": "code",
   "execution_count": 77,
   "metadata": {},
   "outputs": [
    {
     "data": {
      "text/html": [
       "<div>\n",
       "<style scoped>\n",
       "    .dataframe tbody tr th:only-of-type {\n",
       "        vertical-align: middle;\n",
       "    }\n",
       "\n",
       "    .dataframe tbody tr th {\n",
       "        vertical-align: top;\n",
       "    }\n",
       "\n",
       "    .dataframe thead th {\n",
       "        text-align: right;\n",
       "    }\n",
       "</style>\n",
       "<table border=\"1\" class=\"dataframe\">\n",
       "  <thead>\n",
       "    <tr style=\"text-align: right;\">\n",
       "      <th></th>\n",
       "      <th>Precio</th>\n",
       "      <th>Brand</th>\n",
       "      <th>Model</th>\n",
       "      <th>Ano</th>\n",
       "      <th>Potencia</th>\n",
       "      <th>Kilometros</th>\n",
       "      <th>Puertas</th>\n",
       "      <th>Cambio</th>\n",
       "      <th>Longitud</th>\n",
       "      <th>Velocidad</th>\n",
       "      <th>Cilindros</th>\n",
       "      <th>Marchas</th>\n",
       "      <th>Traccion</th>\n",
       "      <th>Combustible</th>\n",
       "      <th>Carroceria</th>\n",
       "      <th>inputcar</th>\n",
       "    </tr>\n",
       "  </thead>\n",
       "  <tbody>\n",
       "    <tr>\n",
       "      <th>0</th>\n",
       "      <td>4000.0</td>\n",
       "      <td>Audi</td>\n",
       "      <td>Audi A3</td>\n",
       "      <td>14.0</td>\n",
       "      <td>140.0</td>\n",
       "      <td>144000.0</td>\n",
       "      <td>1</td>\n",
       "      <td>0</td>\n",
       "      <td>420.0</td>\n",
       "      <td>207.0</td>\n",
       "      <td>4.0</td>\n",
       "      <td>1</td>\n",
       "      <td>0</td>\n",
       "      <td>Diesel</td>\n",
       "      <td>Berlina</td>\n",
       "      <td>1</td>\n",
       "    </tr>\n",
       "  </tbody>\n",
       "</table>\n",
       "</div>"
      ],
      "text/plain": [
       "   Precio Brand    Model   Ano  Potencia  Kilometros  Puertas  Cambio  \\\n",
       "0  4000.0  Audi  Audi A3  14.0     140.0    144000.0        1       0   \n",
       "\n",
       "   Longitud  Velocidad  Cilindros  Marchas  Traccion Combustible Carroceria  \\\n",
       "0     420.0      207.0        4.0        1         0      Diesel    Berlina   \n",
       "\n",
       "   inputcar  \n",
       "0         1  "
      ]
     },
     "metadata": {},
     "output_type": "display_data"
    }
   ],
   "source": [
    "display(df1)"
   ]
  },
  {
   "cell_type": "code",
   "execution_count": 78,
   "metadata": {},
   "outputs": [
    {
     "name": "stdout",
     "output_type": "stream",
     "text": [
      "outliers km\n",
      "outliers year\n",
      "outliers precio\n"
     ]
    }
   ],
   "source": [
    "##Dropping ouliers rows in km\n",
    "df1 = df1[df1[\"Kilometros\"]<=prm.kmmax]\n",
    "df1 = df1[df1[\"Kilometros\"]>=prm.kmmin]\n",
    "print(\"outliers km\")\n",
    "\n",
    "##Dropping ouliers rows for año\n",
    "df1 = df1[df1[\"Ano\"]<=prm.anmax]\n",
    "df1 = df1[df1[\"Ano\"]>=prm.anmin]\n",
    "print(\"outliers year\")\n",
    "\n",
    "##Dropping ouliers rows for precio\n",
    "df1 = df1[df1[\"Precio\"]<=prm.prcmax]\n",
    "df1 = df1[df1[\"Precio\"]>=prm.prcmin]\n",
    "print(\"outliers precio\")"
   ]
  },
  {
   "cell_type": "code",
   "execution_count": 79,
   "metadata": {},
   "outputs": [
    {
     "data": {
      "text/html": [
       "<div>\n",
       "<style scoped>\n",
       "    .dataframe tbody tr th:only-of-type {\n",
       "        vertical-align: middle;\n",
       "    }\n",
       "\n",
       "    .dataframe tbody tr th {\n",
       "        vertical-align: top;\n",
       "    }\n",
       "\n",
       "    .dataframe thead th {\n",
       "        text-align: right;\n",
       "    }\n",
       "</style>\n",
       "<table border=\"1\" class=\"dataframe\">\n",
       "  <thead>\n",
       "    <tr style=\"text-align: right;\">\n",
       "      <th></th>\n",
       "      <th>Precio</th>\n",
       "      <th>Brand</th>\n",
       "      <th>Model</th>\n",
       "      <th>Ano</th>\n",
       "      <th>Potencia</th>\n",
       "      <th>Kilometros</th>\n",
       "      <th>Puertas</th>\n",
       "      <th>Cambio</th>\n",
       "      <th>Longitud</th>\n",
       "      <th>Velocidad</th>\n",
       "      <th>Cilindros</th>\n",
       "      <th>Marchas</th>\n",
       "      <th>Traccion</th>\n",
       "      <th>Combustible</th>\n",
       "      <th>Carroceria</th>\n",
       "      <th>inputcar</th>\n",
       "    </tr>\n",
       "  </thead>\n",
       "  <tbody>\n",
       "    <tr>\n",
       "      <th>0</th>\n",
       "      <td>4000.0</td>\n",
       "      <td>Audi</td>\n",
       "      <td>Audi A3</td>\n",
       "      <td>14.0</td>\n",
       "      <td>140.0</td>\n",
       "      <td>144000.0</td>\n",
       "      <td>1</td>\n",
       "      <td>0</td>\n",
       "      <td>420.0</td>\n",
       "      <td>207.0</td>\n",
       "      <td>4.0</td>\n",
       "      <td>1</td>\n",
       "      <td>0</td>\n",
       "      <td>Diesel</td>\n",
       "      <td>Berlina</td>\n",
       "      <td>1</td>\n",
       "    </tr>\n",
       "  </tbody>\n",
       "</table>\n",
       "</div>"
      ],
      "text/plain": [
       "   Precio Brand    Model   Ano  Potencia  Kilometros  Puertas  Cambio  \\\n",
       "0  4000.0  Audi  Audi A3  14.0     140.0    144000.0        1       0   \n",
       "\n",
       "   Longitud  Velocidad  Cilindros  Marchas  Traccion Combustible Carroceria  \\\n",
       "0     420.0      207.0        4.0        1         0      Diesel    Berlina   \n",
       "\n",
       "   inputcar  \n",
       "0         1  "
      ]
     },
     "metadata": {},
     "output_type": "display_data"
    }
   ],
   "source": [
    "display(df1)"
   ]
  },
  {
   "cell_type": "code",
   "execution_count": 80,
   "metadata": {},
   "outputs": [],
   "source": [
    "\n",
    "df1=df1.dropna()\n",
    "df1 = df1[df1[\"Longitud\"] !=0]\n",
    "df1 = df1[df1[\"Velocidad\"] !=0]\n",
    "##df1 = df1[df1['Cmixto'] !=0]\n",
    "##print(\"removing zeros\")"
   ]
  },
  {
   "cell_type": "code",
   "execution_count": 81,
   "metadata": {},
   "outputs": [
    {
     "data": {
      "text/html": [
       "<div>\n",
       "<style scoped>\n",
       "    .dataframe tbody tr th:only-of-type {\n",
       "        vertical-align: middle;\n",
       "    }\n",
       "\n",
       "    .dataframe tbody tr th {\n",
       "        vertical-align: top;\n",
       "    }\n",
       "\n",
       "    .dataframe thead th {\n",
       "        text-align: right;\n",
       "    }\n",
       "</style>\n",
       "<table border=\"1\" class=\"dataframe\">\n",
       "  <thead>\n",
       "    <tr style=\"text-align: right;\">\n",
       "      <th></th>\n",
       "      <th>Precio</th>\n",
       "      <th>Brand</th>\n",
       "      <th>Model</th>\n",
       "      <th>Ano</th>\n",
       "      <th>Potencia</th>\n",
       "      <th>Kilometros</th>\n",
       "      <th>Puertas</th>\n",
       "      <th>Cambio</th>\n",
       "      <th>Longitud</th>\n",
       "      <th>Velocidad</th>\n",
       "      <th>Cilindros</th>\n",
       "      <th>Marchas</th>\n",
       "      <th>Traccion</th>\n",
       "      <th>Combustible</th>\n",
       "      <th>Carroceria</th>\n",
       "      <th>inputcar</th>\n",
       "    </tr>\n",
       "  </thead>\n",
       "  <tbody>\n",
       "    <tr>\n",
       "      <th>0</th>\n",
       "      <td>4000.0</td>\n",
       "      <td>Audi</td>\n",
       "      <td>Audi A3</td>\n",
       "      <td>14.0</td>\n",
       "      <td>140.0</td>\n",
       "      <td>144000.0</td>\n",
       "      <td>1</td>\n",
       "      <td>0</td>\n",
       "      <td>420.0</td>\n",
       "      <td>207.0</td>\n",
       "      <td>4.0</td>\n",
       "      <td>1</td>\n",
       "      <td>0</td>\n",
       "      <td>Diesel</td>\n",
       "      <td>Berlina</td>\n",
       "      <td>1</td>\n",
       "    </tr>\n",
       "  </tbody>\n",
       "</table>\n",
       "</div>"
      ],
      "text/plain": [
       "   Precio Brand    Model   Ano  Potencia  Kilometros  Puertas  Cambio  \\\n",
       "0  4000.0  Audi  Audi A3  14.0     140.0    144000.0        1       0   \n",
       "\n",
       "   Longitud  Velocidad  Cilindros  Marchas  Traccion Combustible Carroceria  \\\n",
       "0     420.0      207.0        4.0        1         0      Diesel    Berlina   \n",
       "\n",
       "   inputcar  \n",
       "0         1  "
      ]
     },
     "metadata": {},
     "output_type": "display_data"
    }
   ],
   "source": [
    "display(df1)"
   ]
  },
  {
   "cell_type": "code",
   "execution_count": 82,
   "metadata": {},
   "outputs": [
    {
     "name": "stdout",
     "output_type": "stream",
     "text": [
      "removing low freq\n"
     ]
    }
   ],
   "source": [
    "##removing low frequency Brands and models\n",
    "df1=cl_f.RemoveLowFreq(df1,\"Model\",prm.lf_model)\n",
    "df1=cl_f.RemoveLowFreq(df1,\"Brand\",prm.lf_brand)\n",
    "df1=cl_f.RemoveLowFreq(df1,\"Carroceria\",prm.lf_carro)\n",
    "print(\"removing low freq\")"
   ]
  },
  {
   "cell_type": "code",
   "execution_count": 83,
   "metadata": {},
   "outputs": [
    {
     "data": {
      "text/html": [
       "<div>\n",
       "<style scoped>\n",
       "    .dataframe tbody tr th:only-of-type {\n",
       "        vertical-align: middle;\n",
       "    }\n",
       "\n",
       "    .dataframe tbody tr th {\n",
       "        vertical-align: top;\n",
       "    }\n",
       "\n",
       "    .dataframe thead th {\n",
       "        text-align: right;\n",
       "    }\n",
       "</style>\n",
       "<table border=\"1\" class=\"dataframe\">\n",
       "  <thead>\n",
       "    <tr style=\"text-align: right;\">\n",
       "      <th></th>\n",
       "      <th>Precio</th>\n",
       "      <th>Brand</th>\n",
       "      <th>Model</th>\n",
       "      <th>Ano</th>\n",
       "      <th>Potencia</th>\n",
       "      <th>Kilometros</th>\n",
       "      <th>Puertas</th>\n",
       "      <th>Cambio</th>\n",
       "      <th>Longitud</th>\n",
       "      <th>Velocidad</th>\n",
       "      <th>Cilindros</th>\n",
       "      <th>Marchas</th>\n",
       "      <th>Traccion</th>\n",
       "      <th>Combustible</th>\n",
       "      <th>Carroceria</th>\n",
       "      <th>inputcar</th>\n",
       "    </tr>\n",
       "  </thead>\n",
       "  <tbody>\n",
       "  </tbody>\n",
       "</table>\n",
       "</div>"
      ],
      "text/plain": [
       "Empty DataFrame\n",
       "Columns: [Precio, Brand, Model, Ano, Potencia, Kilometros, Puertas, Cambio, Longitud, Velocidad, Cilindros, Marchas, Traccion, Combustible, Carroceria, inputcar]\n",
       "Index: []"
      ]
     },
     "metadata": {},
     "output_type": "display_data"
    }
   ],
   "source": [
    "display(df1)"
   ]
  },
  {
   "cell_type": "code",
   "execution_count": 12,
   "metadata": {},
   "outputs": [
    {
     "data": {
      "text/plain": [
       "[3, 2.0, nan]"
      ]
     },
     "execution_count": 12,
     "metadata": {},
     "output_type": "execute_result"
    }
   ],
   "source": [
    "P=[\"3\",\"2.0\",\"we\"]\n",
    "\n",
    "P=[pd.to_numeric(x, errors='coerce') for x in P]\n",
    "P"
   ]
  },
  {
   "cell_type": "code",
   "execution_count": null,
   "metadata": {},
   "outputs": [],
   "source": []
  }
 ],
 "metadata": {
  "kernelspec": {
   "display_name": "Python 3",
   "language": "python",
   "name": "python3"
  },
  "language_info": {
   "codemirror_mode": {
    "name": "ipython",
    "version": 3
   },
   "file_extension": ".py",
   "mimetype": "text/x-python",
   "name": "python",
   "nbconvert_exporter": "python",
   "pygments_lexer": "ipython3",
   "version": "3.6.9"
  }
 },
 "nbformat": 4,
 "nbformat_minor": 2
}
