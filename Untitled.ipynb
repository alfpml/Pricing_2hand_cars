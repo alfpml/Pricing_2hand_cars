{
 "cells": [
  {
   "cell_type": "code",
   "execution_count": 7,
   "metadata": {},
   "outputs": [],
   "source": [
    "import src.clean_functions as cl_f\n",
    "import parameters as prm\n",
    "import mongoconnect as mc\n",
    "import clean as cln\n",
    "import pandas as pd\n",
    "import numpy as np\n",
    "import json\n",
    "import re\n",
    "from pymongo import MongoClient\n",
    "import getpass"
   ]
  },
  {
   "cell_type": "code",
   "execution_count": 9,
   "metadata": {},
   "outputs": [
    {
     "name": "stdout",
     "output_type": "stream",
     "text": [
      "_id\n",
      "Precio\n",
      "Ano\n",
      "Potencia\n",
      "Kilometros\n",
      "Combustible\n",
      "Puertas\n",
      "Cambio\n",
      "Emisiones\n",
      "Longitud\n",
      "Plazas\n",
      "Peso\n",
      "Carroceria\n",
      "Velocidad\n",
      "Cmixto\n",
      "Curbano\n",
      "Extraurbano\n",
      "0-100km/h\n",
      "Cilindrada\n",
      "Cilindros\n",
      "Transmision\n",
      "Parmaximo\n",
      "Marchas\n",
      "Traccion\n",
      "Brand\n",
      "Model\n"
     ]
    }
   ],
   "source": [
    "#Connect to DB\n",
    "client = MongoClient(mc.connection)\n",
    "db, coll = mc.connectCollection('carpricing','cars')\n",
    "\n",
    "query = {'Brand':\"Audi\"}\n",
    "Brand_audi = coll.find(query)\n",
    "Brand_audi=pd.DataFrame(Brand_audi)\n",
    "for cols in Brand_audi.columns:\n",
    "    print (cols)\n"
   ]
  },
  {
   "cell_type": "code",
   "execution_count": null,
   "metadata": {},
   "outputs": [],
   "source": [
    "Brand_normalized=cln.cleaningfunction(Brand_audi)"
   ]
  },
  {
   "cell_type": "code",
   "execution_count": null,
   "metadata": {},
   "outputs": [],
   "source": [
    "_id\n",
    "\n",
    "\n",
    "\n",
    "Emisiones\n",
    "\n",
    "Peso\n",
    "\n",
    "\n",
    "0-100km/h\n",
    "Cilindrada\n",
    "Transmision\n",
    "Parmaximo\n",
    "\n"
   ]
  }
 ],
 "metadata": {
  "kernelspec": {
   "display_name": "Python 3",
   "language": "python",
   "name": "python3"
  },
  "language_info": {
   "codemirror_mode": {
    "name": "ipython",
    "version": 3
   },
   "file_extension": ".py",
   "mimetype": "text/x-python",
   "name": "python",
   "nbconvert_exporter": "python",
   "pygments_lexer": "ipython3",
   "version": "3.6.9"
  }
 },
 "nbformat": 4,
 "nbformat_minor": 2
}
