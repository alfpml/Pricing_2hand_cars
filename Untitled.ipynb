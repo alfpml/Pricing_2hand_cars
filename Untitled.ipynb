{
 "cells": [
  {
   "cell_type": "code",
   "execution_count": 25,
   "metadata": {},
   "outputs": [],
   "source": [
    "import src.clean_functions as cl_f\n",
    "import parameters as prm\n",
    "import mongoconnect as mc\n",
    "import clean as cln\n",
    "import model as mdl\n",
    "import car_input as ci\n",
    "\n",
    "import pandas as pd\n",
    "import numpy as np\n",
    "import json\n",
    "import re\n",
    "from pymongo import MongoClient\n",
    "import getpass"
   ]
  },
  {
   "cell_type": "code",
   "execution_count": 26,
   "metadata": {},
   "outputs": [
    {
     "name": "stdout",
     "output_type": "stream",
     "text": [
      "connection ready\n"
     ]
    }
   ],
   "source": [
    "##1. Connect to DB\n",
    "client = MongoClient(mc.connection)\n",
    "db, coll = mc.connectCollection('carpricing','cars')\n",
    "print(\"connection ready\")\n",
    "##query = {'Brand':ci.InputBrand}\n",
    "##Brand_q = coll.find(query)"
   ]
  },
  {
   "cell_type": "code",
   "execution_count": 35,
   "metadata": {},
   "outputs": [
    {
     "ename": "ValueError",
     "evalue": "16 columns passed, passed data had 2 columns",
     "output_type": "error",
     "traceback": [
      "\u001b[0;31m---------------------------------------------------------------------------\u001b[0m",
      "\u001b[0;31mAssertionError\u001b[0m                            Traceback (most recent call last)",
      "\u001b[0;32m~/.local/lib/python3.6/site-packages/pandas/core/internals/construction.py\u001b[0m in \u001b[0;36m_list_to_arrays\u001b[0;34m(data, columns, coerce_float, dtype)\u001b[0m\n\u001b[1;32m    499\u001b[0m         result = _convert_object_array(\n\u001b[0;32m--> 500\u001b[0;31m             \u001b[0mcontent\u001b[0m\u001b[0;34m,\u001b[0m \u001b[0mcolumns\u001b[0m\u001b[0;34m,\u001b[0m \u001b[0mdtype\u001b[0m\u001b[0;34m=\u001b[0m\u001b[0mdtype\u001b[0m\u001b[0;34m,\u001b[0m \u001b[0mcoerce_float\u001b[0m\u001b[0;34m=\u001b[0m\u001b[0mcoerce_float\u001b[0m\u001b[0;34m\u001b[0m\u001b[0;34m\u001b[0m\u001b[0m\n\u001b[0m\u001b[1;32m    501\u001b[0m         )\n",
      "\u001b[0;32m~/.local/lib/python3.6/site-packages/pandas/core/internals/construction.py\u001b[0m in \u001b[0;36m_convert_object_array\u001b[0;34m(content, columns, coerce_float, dtype)\u001b[0m\n\u001b[1;32m    582\u001b[0m                 \u001b[0;34m\"{col:d} columns passed, passed data had \"\u001b[0m\u001b[0;34m\u001b[0m\u001b[0;34m\u001b[0m\u001b[0m\n\u001b[0;32m--> 583\u001b[0;31m                 \u001b[0;34m\"{con} columns\"\u001b[0m\u001b[0;34m.\u001b[0m\u001b[0mformat\u001b[0m\u001b[0;34m(\u001b[0m\u001b[0mcol\u001b[0m\u001b[0;34m=\u001b[0m\u001b[0mlen\u001b[0m\u001b[0;34m(\u001b[0m\u001b[0mcolumns\u001b[0m\u001b[0;34m)\u001b[0m\u001b[0;34m,\u001b[0m \u001b[0mcon\u001b[0m\u001b[0;34m=\u001b[0m\u001b[0mlen\u001b[0m\u001b[0;34m(\u001b[0m\u001b[0mcontent\u001b[0m\u001b[0;34m)\u001b[0m\u001b[0;34m)\u001b[0m\u001b[0;34m\u001b[0m\u001b[0;34m\u001b[0m\u001b[0m\n\u001b[0m\u001b[1;32m    584\u001b[0m             )\n",
      "\u001b[0;31mAssertionError\u001b[0m: 16 columns passed, passed data had 2 columns",
      "\nThe above exception was the direct cause of the following exception:\n",
      "\u001b[0;31mValueError\u001b[0m                                Traceback (most recent call last)",
      "\u001b[0;32m<ipython-input-35-97006747e2d5>\u001b[0m in \u001b[0;36m<module>\u001b[0;34m\u001b[0m\n\u001b[1;32m     21\u001b[0m \u001b[0mrowNames\u001b[0m \u001b[0;34m=\u001b[0m \u001b[0;34m[\u001b[0m\u001b[0;34m\"Row 1\"\u001b[0m\u001b[0;34m,\u001b[0m \u001b[0;34m\"Row 2\"\u001b[0m\u001b[0;34m,\u001b[0m \u001b[0;34m\"Row 3\"\u001b[0m\u001b[0;34m]\u001b[0m\u001b[0;34m\u001b[0m\u001b[0;34m\u001b[0m\u001b[0m\n\u001b[1;32m     22\u001b[0m \u001b[0;34m\u001b[0m\u001b[0m\n\u001b[0;32m---> 23\u001b[0;31m \u001b[0mdf1\u001b[0m\u001b[0;34m=\u001b[0m\u001b[0mpd\u001b[0m\u001b[0;34m.\u001b[0m\u001b[0mDataFrame\u001b[0m\u001b[0;34m(\u001b[0m\u001b[0minput_car\u001b[0m\u001b[0;34m.\u001b[0m\u001b[0mitems\u001b[0m\u001b[0;34m(\u001b[0m\u001b[0;34m)\u001b[0m\u001b[0;34m,\u001b[0m\u001b[0mcolumns\u001b[0m\u001b[0;34m=\u001b[0m\u001b[0minput_car\u001b[0m\u001b[0;34m.\u001b[0m\u001b[0mkeys\u001b[0m\u001b[0;34m(\u001b[0m\u001b[0;34m)\u001b[0m\u001b[0;34m)\u001b[0m\u001b[0;34m\u001b[0m\u001b[0;34m\u001b[0m\u001b[0m\n\u001b[0m\u001b[1;32m     24\u001b[0m \u001b[0;31m##df1=pd.DataFrame.from_dict(input_car, orient='columns', dtype=None, columns=None)\u001b[0m\u001b[0;34m\u001b[0m\u001b[0;34m\u001b[0m\u001b[0;34m\u001b[0m\u001b[0m\n\u001b[1;32m     25\u001b[0m \u001b[0mdisplay\u001b[0m \u001b[0;34m(\u001b[0m\u001b[0mdf1\u001b[0m\u001b[0;34m.\u001b[0m\u001b[0mhead\u001b[0m\u001b[0;34m(\u001b[0m\u001b[0;34m)\u001b[0m\u001b[0;34m)\u001b[0m\u001b[0;34m\u001b[0m\u001b[0;34m\u001b[0m\u001b[0m\n",
      "\u001b[0;32m~/.local/lib/python3.6/site-packages/pandas/core/frame.py\u001b[0m in \u001b[0;36m__init__\u001b[0;34m(self, data, index, columns, dtype, copy)\u001b[0m\n\u001b[1;32m    448\u001b[0m                     \u001b[0;32mif\u001b[0m \u001b[0mis_named_tuple\u001b[0m\u001b[0;34m(\u001b[0m\u001b[0mdata\u001b[0m\u001b[0;34m[\u001b[0m\u001b[0;36m0\u001b[0m\u001b[0;34m]\u001b[0m\u001b[0;34m)\u001b[0m \u001b[0;32mand\u001b[0m \u001b[0mcolumns\u001b[0m \u001b[0;32mis\u001b[0m \u001b[0;32mNone\u001b[0m\u001b[0;34m:\u001b[0m\u001b[0;34m\u001b[0m\u001b[0;34m\u001b[0m\u001b[0m\n\u001b[1;32m    449\u001b[0m                         \u001b[0mcolumns\u001b[0m \u001b[0;34m=\u001b[0m \u001b[0mdata\u001b[0m\u001b[0;34m[\u001b[0m\u001b[0;36m0\u001b[0m\u001b[0;34m]\u001b[0m\u001b[0;34m.\u001b[0m\u001b[0m_fields\u001b[0m\u001b[0;34m\u001b[0m\u001b[0;34m\u001b[0m\u001b[0m\n\u001b[0;32m--> 450\u001b[0;31m                     \u001b[0marrays\u001b[0m\u001b[0;34m,\u001b[0m \u001b[0mcolumns\u001b[0m \u001b[0;34m=\u001b[0m \u001b[0mto_arrays\u001b[0m\u001b[0;34m(\u001b[0m\u001b[0mdata\u001b[0m\u001b[0;34m,\u001b[0m \u001b[0mcolumns\u001b[0m\u001b[0;34m,\u001b[0m \u001b[0mdtype\u001b[0m\u001b[0;34m=\u001b[0m\u001b[0mdtype\u001b[0m\u001b[0;34m)\u001b[0m\u001b[0;34m\u001b[0m\u001b[0;34m\u001b[0m\u001b[0m\n\u001b[0m\u001b[1;32m    451\u001b[0m                     \u001b[0mcolumns\u001b[0m \u001b[0;34m=\u001b[0m \u001b[0mensure_index\u001b[0m\u001b[0;34m(\u001b[0m\u001b[0mcolumns\u001b[0m\u001b[0;34m)\u001b[0m\u001b[0;34m\u001b[0m\u001b[0;34m\u001b[0m\u001b[0m\n\u001b[1;32m    452\u001b[0m \u001b[0;34m\u001b[0m\u001b[0m\n",
      "\u001b[0;32m~/.local/lib/python3.6/site-packages/pandas/core/internals/construction.py\u001b[0m in \u001b[0;36mto_arrays\u001b[0;34m(data, columns, coerce_float, dtype)\u001b[0m\n\u001b[1;32m    462\u001b[0m         \u001b[0;32mreturn\u001b[0m \u001b[0;34m[\u001b[0m\u001b[0;34m]\u001b[0m\u001b[0;34m,\u001b[0m \u001b[0;34m[\u001b[0m\u001b[0;34m]\u001b[0m  \u001b[0;31m# columns if columns is not None else []\u001b[0m\u001b[0;34m\u001b[0m\u001b[0;34m\u001b[0m\u001b[0m\n\u001b[1;32m    463\u001b[0m     \u001b[0;32mif\u001b[0m \u001b[0misinstance\u001b[0m\u001b[0;34m(\u001b[0m\u001b[0mdata\u001b[0m\u001b[0;34m[\u001b[0m\u001b[0;36m0\u001b[0m\u001b[0;34m]\u001b[0m\u001b[0;34m,\u001b[0m \u001b[0;34m(\u001b[0m\u001b[0mlist\u001b[0m\u001b[0;34m,\u001b[0m \u001b[0mtuple\u001b[0m\u001b[0;34m)\u001b[0m\u001b[0;34m)\u001b[0m\u001b[0;34m:\u001b[0m\u001b[0;34m\u001b[0m\u001b[0;34m\u001b[0m\u001b[0m\n\u001b[0;32m--> 464\u001b[0;31m         \u001b[0;32mreturn\u001b[0m \u001b[0m_list_to_arrays\u001b[0m\u001b[0;34m(\u001b[0m\u001b[0mdata\u001b[0m\u001b[0;34m,\u001b[0m \u001b[0mcolumns\u001b[0m\u001b[0;34m,\u001b[0m \u001b[0mcoerce_float\u001b[0m\u001b[0;34m=\u001b[0m\u001b[0mcoerce_float\u001b[0m\u001b[0;34m,\u001b[0m \u001b[0mdtype\u001b[0m\u001b[0;34m=\u001b[0m\u001b[0mdtype\u001b[0m\u001b[0;34m)\u001b[0m\u001b[0;34m\u001b[0m\u001b[0;34m\u001b[0m\u001b[0m\n\u001b[0m\u001b[1;32m    465\u001b[0m     \u001b[0;32melif\u001b[0m \u001b[0misinstance\u001b[0m\u001b[0;34m(\u001b[0m\u001b[0mdata\u001b[0m\u001b[0;34m[\u001b[0m\u001b[0;36m0\u001b[0m\u001b[0;34m]\u001b[0m\u001b[0;34m,\u001b[0m \u001b[0mabc\u001b[0m\u001b[0;34m.\u001b[0m\u001b[0mMapping\u001b[0m\u001b[0;34m)\u001b[0m\u001b[0;34m:\u001b[0m\u001b[0;34m\u001b[0m\u001b[0;34m\u001b[0m\u001b[0m\n\u001b[1;32m    466\u001b[0m         return _list_of_dict_to_arrays(\n",
      "\u001b[0;32m~/.local/lib/python3.6/site-packages/pandas/core/internals/construction.py\u001b[0m in \u001b[0;36m_list_to_arrays\u001b[0;34m(data, columns, coerce_float, dtype)\u001b[0m\n\u001b[1;32m    501\u001b[0m         )\n\u001b[1;32m    502\u001b[0m     \u001b[0;32mexcept\u001b[0m \u001b[0mAssertionError\u001b[0m \u001b[0;32mas\u001b[0m \u001b[0me\u001b[0m\u001b[0;34m:\u001b[0m\u001b[0;34m\u001b[0m\u001b[0;34m\u001b[0m\u001b[0m\n\u001b[0;32m--> 503\u001b[0;31m         \u001b[0;32mraise\u001b[0m \u001b[0mValueError\u001b[0m\u001b[0;34m(\u001b[0m\u001b[0me\u001b[0m\u001b[0;34m)\u001b[0m \u001b[0;32mfrom\u001b[0m \u001b[0me\u001b[0m\u001b[0;34m\u001b[0m\u001b[0;34m\u001b[0m\u001b[0m\n\u001b[0m\u001b[1;32m    504\u001b[0m     \u001b[0;32mreturn\u001b[0m \u001b[0mresult\u001b[0m\u001b[0;34m\u001b[0m\u001b[0;34m\u001b[0m\u001b[0m\n\u001b[1;32m    505\u001b[0m \u001b[0;34m\u001b[0m\u001b[0m\n",
      "\u001b[0;31mValueError\u001b[0m: 16 columns passed, passed data had 2 columns"
     ]
    }
   ],
   "source": [
    "input_car={\n",
    "'Precio':4000,\n",
    "'Brand':\"Audi\",\n",
    "'Model':\"Audi A3\",\n",
    "'Ano':2005, \n",
    "'Potencia':140,\n",
    "'Kilometros':144000,\n",
    "'Puertas':5,\n",
    "'Cambio':\"Manual\", \n",
    "'Longitud':420.0,\n",
    "'Velocidad':207.0,\n",
    "'Cilindros':4,\n",
    "'Marchas':6,\n",
    "'Traccion':\"Delantera\",\n",
    "'Combustible':\"Diesel\",\n",
    "'Carroceria':\"Berlina\",\n",
    "'inputcar':1\n",
    "}\n",
    "\n",
    "colNames = [\"Column A\", \"Column B\", \"Column C\"]\n",
    "rowNames = [\"Row 1\", \"Row 2\", \"Row 3\"]\n",
    "\n",
    "df1=pd.DataFrame(input_car.items(),columns=input_car.keys())\n",
    "##df1=pd.DataFrame.from_dict(input_car, orient='columns', dtype=None, columns=None)\n",
    "display (df1.head())"
   ]
  },
  {
   "cell_type": "code",
   "execution_count": null,
   "metadata": {},
   "outputs": [],
   "source": [
    "df1=df1.dropna()\n",
    "df1['Potencia']=df1['Potencia'].astype('float', errors='ignore')\n",
    "df1['Cilindros']=df1['Cilindros'].astype('float', errors='ignore')\n",
    "df1['Puertas']=df1['Puertas'].astype('float', errors='ignore')\n",
    "\n",
    "df1['Marchas']=df1['Marchas'].astype('float', errors='ignore')\n",
    "df1=df1[df1.Marchas.apply(lambda x: x.isnumeric())]\n",
    "##df1[pd.to_numeric(df1['Marchas'], errors='coerce').notnull()]\n",
    "\n",
    "df1['Kilometros']=df1['Kilometros'].astype('float', errors='ignore')\n",
    "df1['Precio']=df1['Precio'].astype('float', errors='ignore')\n",
    "df1['Longitud']=df1['Longitud'].astype('float', errors='ignore')\n",
    "df1['Velocidad']=df1['Velocidad'].astype('float', errors='ignore')\n",
    "##df1['Cmixto']=df1['Cmixto'].dropna().astype('float', errors='ignore')\n",
    "df1=df1.dropna()\n",
    "print(\"casting\")\n",
    "\n",
    "##Encoding categorical variables\n",
    "df1['Cambio']=[cl_f.cambio(i) for i in df1['Cambio']]\n",
    "df1['Traccion']=[cl_f.traccion(i) for i in df1['Traccion']]\n",
    "df1['Puertas']=[cl_f.puertas(i) for i in df1['Puertas']]\n",
    "df1['Marchas']=[cl_f.marchas(i) for i in df1['Marchas']]\n",
    "print(\"encoding categorical\")\n",
    "\n",
    "\n",
    "##Encoding column año\n",
    "df1['Ano'] = df1['Ano'].str[-4:]\n",
    "df1=df1.dropna()\n",
    "df1['Ano'] = df1['Ano'].astype('float', errors='ignore')\n",
    "df1['Ano']=2019-df1['Ano']\n",
    "print(\"encoding año\")\n",
    "\n",
    "##Dropping ouliers rows in km\n",
    "df1 = df1[df1[\"Kilometros\"]<=prm.kmmax]\n",
    "df1 = df1[df1[\"Kilometros\"]>=prm.kmmin]\n",
    "print(\"outliers km\")\n",
    "\n",
    "##Dropping ouliers rows for año\n",
    "df1 = df1[df1[\"Ano\"]<=prm.anmax]\n",
    "df1 = df1[df1[\"Ano\"]>=prm.anmin]\n",
    "print(\"outliers year\")\n",
    "\n",
    "##Dropping ouliers rows for precio\n",
    "df1 = df1[df1[\"Precio\"]<=prm.prcmax]\n",
    "df1 = df1[df1[\"Precio\"]>=prm.prcmin]\n",
    "print(\"outliers precio\")\n",
    "\n",
    "df1=df1.dropna()\n",
    "df1 = df1[df1[\"Longitud\"] !=0]\n",
    "df1 = df1[df1[\"Velocidad\"] !=0]\n",
    "##df1 = df1[df1['Cmixto'] !=0]\n",
    "##print(\"removing zeros\")\n",
    "\n",
    "\n",
    "\n",
    "##removing low frequency Brands and models\n",
    "df1=cl_f.RemoveLowFreq(df1,\"Model\",prm.lf_model)\n",
    "df1=cl_f.RemoveLowFreq(df1,\"Brand\",prm.lf_brand)\n",
    "df1=cl_f.RemoveLowFreq(df1,\"Carroceria\",prm.lf_carro)\n",
    "print(\"removing low freq\")"
   ]
  },
  {
   "cell_type": "code",
   "execution_count": null,
   "metadata": {},
   "outputs": [],
   "source": [
    "##4. Defining Train test\n",
    "Xcolumns=cln.listcolumns(dfBrand_N)\n",
    "##print(\"Xcolumns are:\")\n",
    "##print(Xcolumns)\n",
    "print(\"X columns defined\")"
   ]
  },
  {
   "cell_type": "code",
   "execution_count": null,
   "metadata": {},
   "outputs": [],
   "source": [
    "###5. Performing Regression\n",
    "mdl.regression(dfBrand_N,Xcolumns)"
   ]
  },
  {
   "cell_type": "code",
   "execution_count": null,
   "metadata": {},
   "outputs": [],
   "source": []
  }
 ],
 "metadata": {
  "kernelspec": {
   "display_name": "Python 3",
   "language": "python",
   "name": "python3"
  },
  "language_info": {
   "codemirror_mode": {
    "name": "ipython",
    "version": 3
   },
   "file_extension": ".py",
   "mimetype": "text/x-python",
   "name": "python",
   "nbconvert_exporter": "python",
   "pygments_lexer": "ipython3",
   "version": "3.6.9"
  }
 },
 "nbformat": 4,
 "nbformat_minor": 2
}
