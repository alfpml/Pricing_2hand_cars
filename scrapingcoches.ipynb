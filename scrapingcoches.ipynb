{
 "cells": [
  {
   "cell_type": "code",
   "execution_count": 2,
   "metadata": {},
   "outputs": [],
   "source": [
    "import pandas as pd\n",
    "import requests\n",
    "from bs4 import BeautifulSoup"
   ]
  },
  {
   "cell_type": "code",
   "execution_count": 3,
   "metadata": {},
   "outputs": [
    {
     "data": {
      "text/plain": [
       "['https://www.coches.com/coches-segunda-mano/ocasion-audi-a4-20tdi-dpf-s-line-edition-150-en-madrid.htm?id=4357221',\n",
       " 'https://www.coches.com/coches-segunda-mano/ocasion-volkswagen-passat-variant-20tdi-edition-110kw-en-madrid.htm?id=4536719',\n",
       " 'https://www.coches.com/coches-segunda-mano/ocasion-fiat-freemont-20-diesel-lounge-170-en-madrid.htm?id=4612265',\n",
       " 'https://www.coches.com/km0/seminuevo-cupra-ateca-cupra--20-tsi-300-dsg-4drive-en-madrid.htm?id=4302265',\n",
       " 'https://www.coches.com/coches-segunda-mano/ocasion-lexus-nx-300h-executive-4wd-tecno-en-madrid.htm?id=4502371',\n",
       " 'https://www.coches.com/coches-segunda-mano/ocasion-ford-mondeo-20tdci-limited-edition-140-en-madrid.htm?id=4506805',\n",
       " 'https://www.coches.com/km0/seminuevo-jeep-compass-16-mjt-sport-4x2-en-madrid.htm?id=4297689',\n",
       " 'https://www.coches.com/coches-segunda-mano/ocasion-nissan-x-trail-16-dci-360-4x4-i-en-madrid.htm?id=4620235',\n",
       " 'https://www.coches.com/coches-segunda-mano/ocasion-toyota-hilux-25d-4d-cabina-sencilla-gx-4x4-en-madrid.htm?id=4621437',\n",
       " 'https://www.coches.com/coches-segunda-mano/ocasion-citroen-berlingo-furgon-16hdi-90-en-madrid.htm?id=4621441',\n",
       " 'https://www.coches.com/coches-segunda-mano/ocasion-seat-alhambra-20tdi-cr-eco-s_s-reference-150-en-madrid.htm?id=4089373',\n",
       " 'https://www.coches.com/coches-segunda-mano/ocasion-mazda-cx-3-15d-luxury-2wd-en-madrid.htm?id=4371963',\n",
       " 'https://www.coches.com/km0/seminuevo-nissan-leaf-acenta-30kwh-en-madrid.htm?id=4457435',\n",
       " 'https://www.coches.com/coches-segunda-mano/ocasion-audi-a6-20tdi-multitronic-en-madrid.htm?id=4467739',\n",
       " 'https://www.coches.com/coches-segunda-mano/ocasion-peugeot-3008-16-thp-s_s-allure-eat6-165-en-madrid.htm?id=4534623',\n",
       " 'https://www.coches.com/coches-segunda-mano/ocasion-hyundai-i20-12-klass-en-madrid.htm?id=4105271',\n",
       " 'https://www.coches.com/coches-segunda-mano/ocasion-ford-s-max-22tdci-titanium-x-en-madrid.htm?id=4266551',\n",
       " 'https://www.coches.com/km0/seminuevo-alfa+romeo-giulietta-14-tb-120-super-en-madrid.htm?id=4297671',\n",
       " 'https://www.coches.com/coches-segunda-mano/ocasion-opel-insignia-20cdti-ecof-s_s-business-140-en-madrid.htm?id=4487833',\n",
       " 'https://www.coches.com/coches-segunda-mano/ocasion-lexus-rx-300-president-aut-en-madrid.htm?id=4512021']"
      ]
     },
     "execution_count": 3,
     "metadata": {},
     "output_type": "execute_result"
    }
   ],
   "source": [
    "links=[]\n",
    "url= 'https://www.coches.com/coches-segunda-mano/coches-ocasion-en-madrid.htm?anyo_hasta=2018&vendedor=2'\n",
    "soup = BeautifulSoup((requests.get(url)).text, 'html.parser')\n",
    "pl1 = soup.findAll('a',{\"class\":\"pill-information\",\"class\":\"primary-link\"})\n",
    "for e in pl1:\n",
    "    links.append(e.get('href'))\n",
    "links"
   ]
  },
  {
   "cell_type": "code",
   "execution_count": 4,
   "metadata": {},
   "outputs": [],
   "source": [
    "def linksScrap(lim,url):\n",
    "    ##lim=750\n",
    "    pages=[i for i in range(lim-1)]\n",
    "    links=[]\n",
    "    for i in pages:\n",
    "        ##url = 'https://www.coches.com/coches-segunda-mano/coches-segunda-mano-particulares.htm?page={}'.format(i)\n",
    "        soup = BeautifulSoup((requests.get(url+str(i))).text, 'html.parser')\n",
    "        pl1 = soup.findAll('a',{\"class\":\"pill-information\",\"class\":\"primary-link\"})\n",
    "        for e in pl1:\n",
    "            links.append(e.get('href'))\n",
    "    return links"
   ]
  },
  {
   "cell_type": "code",
   "execution_count": 5,
   "metadata": {},
   "outputs": [],
   "source": [
    "def linksScrap2(lim1,lim2,url):\n",
    "    ##lim=750\n",
    "    pages=[i for i in range(lim1,lim2)]\n",
    "    links=[]\n",
    "    for i in pages:\n",
    "        ##url = 'https://www.coches.com/coches-segunda-mano/coches-segunda-mano-particulares.htm?page={}'.format(i)\n",
    "        soup = BeautifulSoup((requests.get(url+str(i))).text, 'html.parser')\n",
    "        pl1 = soup.findAll('a',{\"class\":\"pill-information\",\"class\":\"primary-link\"})\n",
    "        for e in pl1:\n",
    "            links.append(e.get('href'))\n",
    "    return links"
   ]
  },
  {
   "cell_type": "code",
   "execution_count": 6,
   "metadata": {},
   "outputs": [],
   "source": [
    "def carsScrap(links):\n",
    "    cars=[]\n",
    "    for l in links:\n",
    "        ##Getting URLS\n",
    "        soup = BeautifulSoup((requests.get(l)).text, 'html.parser')\n",
    "        ##Labels\n",
    "        featureLabels = soup.findAll('div',{\"class\":\"index-card__technical-data-label\"})\n",
    "        labels=[(e.get_text('div')).strip() for e in featureLabels] \n",
    "        ##Values\n",
    "        feautureValues = soup.findAll('div',{\"class\":\"index-card__technical-data-info\"})\n",
    "        values=[(e.get_text('div')).strip() for e in feautureValues] \n",
    "        ##creating Tuple\n",
    "        features = zip(labels,values)\n",
    "        ##creating dict\n",
    "        featuresD = dict(features)\n",
    "        ##modelo\n",
    "        models = soup.findAll('ol',{\"class\":\"breadcrumb breadcrumb--index-card\"})\n",
    "        mod=[]\n",
    "        for e in models:\n",
    "            for i in range(len(e.find_all(\"a\"))):\n",
    "                mod.append(((e.find_all(\"a\")[i]).get_text('li')))\n",
    "                ##adding modelo\n",
    "                featuresD['model']=mod\n",
    "            cars.append(featuresD)\n",
    "    return cars"
   ]
  },
  {
   "cell_type": "code",
   "execution_count": 7,
   "metadata": {},
   "outputs": [],
   "source": [
    "def carsScrap2(links):\n",
    "    cars=[]\n",
    "    for l in links:\n",
    "        ##Getting URLS\n",
    "        soup = BeautifulSoup((requests.get(l)).text, 'html.parser')\n",
    "        ##Labels\n",
    "        featureLabels = soup.findAll('div',{\"class\":\"index-card__technical-data-label\"})\n",
    "        labels=[(e.get_text('div')).strip() for e in featureLabels] \n",
    "        ##Values\n",
    "        feautureValues = soup.findAll('div',{\"class\":\"index-card__technical-data-info\"})\n",
    "        values=[(e.get_text('div')).strip() for e in feautureValues] \n",
    "        ##creating Tuple\n",
    "        features = zip(labels,values)\n",
    "        ##creating dict\n",
    "        featuresD = dict(features)\n",
    "        ##modelo\n",
    "        models = soup.findAll('ol',{\"class\":\"breadcrumb breadcrumb--index-card\"})\n",
    "        mod=[]\n",
    "        brand=[]\n",
    "        model=[]\n",
    "        for e in models:\n",
    "            for i in range(len(e.find_all(\"a\"))):\n",
    "                if i==2:\n",
    "                    brand.append(((e.find_all(\"a\")[i]).get_text('li')))\n",
    "                    \n",
    "                    featuresD['brand']=brand[0]\n",
    "                elif i==3:\n",
    "                    model.append(((e.find_all(\"a\")[i]).get_text('li')))\n",
    "                    \n",
    "                    featuresD['model']=model[0]\n",
    "            cars.append(featuresD)\n",
    "    return cars"
   ]
  },
  {
   "cell_type": "code",
   "execution_count": null,
   "metadata": {},
   "outputs": [],
   "source": [
    "##up to 4500\n",
    "links_oca1=linksScrap(750,'https://www.coches.com/coches-segunda-mano/coches-segunda-mano-particulares.htm?anyo_hasta=2018&page=')\n",
    "cars_oca1=carsScrap2(links_oca1)\n",
    "cars_oca1=pd.DataFrame(cars_oca1)\n",
    "cars_oca1.to_json(r'./output/cars_ocasion.json')"
   ]
  },
  {
   "cell_type": "code",
   "execution_count": null,
   "metadata": {},
   "outputs": [],
   "source": [
    "##up to 4500\n",
    "links_ocaMadrid=linksScrap(902,'https://www.coches.com/coches-segunda-mano/coches-ocasion-en-madrid.htm?anyo_hasta=2018&vendedor=1&page=')\n",
    "print(len(links_ocaMadrid))"
   ]
  },
  {
   "cell_type": "code",
   "execution_count": null,
   "metadata": {},
   "outputs": [],
   "source": [
    "cars_ocaMadrid=carsScrap2(links_ocaMadrid)\n",
    "print(len(cars_ocaMadrid))\n",
    "cars_ocaMadrid=pd.DataFrame(cars_ocaMadrid)\n",
    "cars_ocaMadrid.to_csv('./output/cars_ocaMadrid.csv', index=False)"
   ]
  },
  {
   "cell_type": "code",
   "execution_count": null,
   "metadata": {},
   "outputs": [],
   "source": [
    "links_ocaValencia=linksScrap(300,'https://www.coches.com/coches-segunda-mano/coches-ocasion-en-valencia.htm?anyo_hasta=2018&vendedor=1&page=')\n",
    "print(len(links_ocaValencia))"
   ]
  },
  {
   "cell_type": "code",
   "execution_count": null,
   "metadata": {},
   "outputs": [],
   "source": [
    "cars_ocaValencia=carsScrap2(links_ocaValencia)\n",
    "print(len(cars_ocaValencia))\n",
    "cars_ocaValencia=pd.DataFrame(cars_ocaValencia)\n",
    "cars_ocaValencia.to_csv('./output/cars_ocaValencia.csv', index=False)"
   ]
  },
  {
   "cell_type": "code",
   "execution_count": null,
   "metadata": {},
   "outputs": [],
   "source": [
    "links_ocaMalaga=linksScrap(200,'https://www.coches.com/coches-segunda-mano/coches-ocasion-en-malaga.htm?anyo_hasta=2018&vendedor=1&page=')\n",
    "print(len(links_ocaMalaga))"
   ]
  },
  {
   "cell_type": "code",
   "execution_count": null,
   "metadata": {},
   "outputs": [],
   "source": [
    "cars_ocaMalaga=carsScrap2(links_ocaMalaga)\n",
    "print(len(cars_ocaMalaga))\n",
    "cars_ocaMalaga=pd.DataFrame(cars_ocaMalaga)\n",
    "cars_ocaMalaga.to_csv('./output/cars_ocaMalaga.csv', index=False)"
   ]
  },
  {
   "cell_type": "code",
   "execution_count": null,
   "metadata": {},
   "outputs": [],
   "source": [
    "links_ocaBarcelona=linksScrap(700,'https://www.coches.com/coches-segunda-mano/coches-ocasion-en-barcelona.htm?anyo_hasta=2018&vendedor=1&page=')\n",
    "print(len(links_ocaBarcelona))"
   ]
  },
  {
   "cell_type": "code",
   "execution_count": null,
   "metadata": {},
   "outputs": [],
   "source": [
    "cars_ocaBarcelona=carsScrap2(links_ocaBarcelona)\n",
    "print(len(cars_ocaBarcelona))\n",
    "cars_ocaBarcelona=pd.DataFrame(cars_ocaBarcelona)\n",
    "cars_ocaBarcelona.to_csv('./output/cars_ocaBarcelona.csv', index=False)"
   ]
  },
  {
   "cell_type": "code",
   "execution_count": null,
   "metadata": {},
   "outputs": [],
   "source": [
    "links_ocaVizcaya=linksScrap(180,'https://www.coches.com/coches-segunda-mano/coches-ocasion-en-vizcaya.htm?anyo_hasta=2018&vendedor=1&page=')\n",
    "print(len(links_ocaVizcaya))"
   ]
  },
  {
   "cell_type": "code",
   "execution_count": null,
   "metadata": {},
   "outputs": [],
   "source": [
    "cars_ocaVizcaya=carsScrap2(links_ocaVizcaya)\n",
    "print(len(cars_ocaVizcaya))\n",
    "cars_ocaVizcaya=pd.DataFrame(cars_ocaVizcaya)\n",
    "cars_ocaVizcaya.to_csv('./output/cars_ocaVizcaya.csv', index=False)"
   ]
  },
  {
   "cell_type": "code",
   "execution_count": null,
   "metadata": {},
   "outputs": [],
   "source": [
    "links_ocaZaragoza=linksScrap(180,'https://www.coches.com/coches-segunda-mano/coches-ocasion-en-zaragoza.htm?anyo_hasta=2018&vendedor=1&page=')\n",
    "print(len(links_ocaZaragoza))"
   ]
  },
  {
   "cell_type": "code",
   "execution_count": null,
   "metadata": {},
   "outputs": [],
   "source": [
    "cars_ocaZaragoza=carsScrap2(links_ocaZaragoza)\n",
    "print(len(cars_ocaZaragoza))\n",
    "cars_ocaZaragoza=pd.DataFrame(cars_ocaZaragoza)\n",
    "cars_ocaZaragoza.to_csv('./output/cars_ocaZaragoza.csv', index=False)"
   ]
  },
  {
   "cell_type": "code",
   "execution_count": null,
   "metadata": {},
   "outputs": [],
   "source": [
    "links_ocaAlicante=linksScrap(180,'https://www.coches.com/coches-segunda-mano/coches-ocasion-en-alicante.htm?anyo_hasta=2018&vendedor=1&page=')\n",
    "print(len(links_ocaAlicante))"
   ]
  },
  {
   "cell_type": "code",
   "execution_count": null,
   "metadata": {},
   "outputs": [],
   "source": [
    "cars_ocaAlicante=carsScrap2(links_ocaAlicante)\n",
    "print(len(cars_ocaAlicante))\n",
    "cars_ocaAlicante=pd.DataFrame(cars_ocaAlicante)\n",
    "cars_ocaAlicante.to_csv('./output/cars_ocaAlicante.csv', index=False)\n"
   ]
  },
  {
   "cell_type": "code",
   "execution_count": null,
   "metadata": {},
   "outputs": [],
   "source": [
    "links_ocaSevilla=linksScrap(180,'https://www.coches.com/coches-segunda-mano/coches-ocasion-en-sevilla.htm?anyo_hasta=2018&vendedor=1&page=')\n",
    "print(len(links_ocaSevilla))"
   ]
  },
  {
   "cell_type": "code",
   "execution_count": null,
   "metadata": {},
   "outputs": [],
   "source": [
    "cars_ocaSevilla=carsScrap2(links_ocaSevilla)\n",
    "print(len(cars_ocaSevilla))\n",
    "cars_ocaSevilla=pd.DataFrame(cars_ocaSevilla)\n",
    "cars_ocaSevilla.to_csv('./output/cars_ocaSevilla.csv', index=False)"
   ]
  },
  {
   "cell_type": "code",
   "execution_count": null,
   "metadata": {},
   "outputs": [],
   "source": []
  }
 ],
 "metadata": {
  "kernelspec": {
   "display_name": "Python 3",
   "language": "python",
   "name": "python3"
  },
  "language_info": {
   "codemirror_mode": {
    "name": "ipython",
    "version": 3
   },
   "file_extension": ".py",
   "mimetype": "text/x-python",
   "name": "python",
   "nbconvert_exporter": "python",
   "pygments_lexer": "ipython3",
   "version": "3.6.9"
  }
 },
 "nbformat": 4,
 "nbformat_minor": 2
}
