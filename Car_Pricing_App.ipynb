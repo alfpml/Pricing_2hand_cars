{
 "cells": [
  {
   "cell_type": "code",
   "execution_count": 92,
   "metadata": {},
   "outputs": [],
   "source": [
    "%matplotlib inline\n",
    "import matplotlib.pyplot as plt\n",
    "from bottle import route, run, get, post, request\n",
    "from bson.json_util import dumps\n",
    "import json\n",
    "import dns\n",
    "import requests\n",
    "from pymongo import MongoClient\n",
    "import getpass"
   ]
  },
  {
   "cell_type": "code",
   "execution_count": 93,
   "metadata": {},
   "outputs": [
    {
     "data": {
      "text/plain": [
       "'Precio recomendado para tu Audi A3: 3505€'"
      ]
     },
     "execution_count": 93,
     "metadata": {},
     "output_type": "execute_result"
    }
   ],
   "source": [
    "###URL: https://www.coches.com/coches-segunda-mano/audi-a3-diesel.htm?anyo_desde=2004&anyo_hasta=2004&km_desde=150000&potencia_desde=140&cambio=1&puertas=3\n",
    "\n",
    "carlos={\n",
    "'Brand':\"Audi\",\n",
    "'Model':\"Audi A3\",\n",
    "'Year':\"2004\", \n",
    "'Potencia':140,\n",
    "'Kilometros':200000,\n",
    "'Puertas':3,\n",
    "'Cambio':\"Manual\", \n",
    "'Cilindros':4,\n",
    "'Marchas':6.0,\n",
    "'Traccion':\"Delantera\",\n",
    "'Combustible':\"Diesel\"\n",
    "}\n",
    "\n",
    "##Car Price\n",
    "url = \"http://localhost:8080/carprice\"\n",
    "requests.get(url,data=carlos).text"
   ]
  },
  {
   "cell_type": "code",
   "execution_count": 88,
   "metadata": {},
   "outputs": [
    {
     "data": {
      "text/plain": [
       "'Precio recomendado para tu Audi A3: 10640€'"
      ]
     },
     "execution_count": 88,
     "metadata": {},
     "output_type": "execute_result"
    }
   ],
   "source": [
    "###Ejemplo mismo modelo más actual\n",
    "\n",
    "pepe={\n",
    "'Brand':\"Audi\",\n",
    "'Model':\"Audi A3\",\n",
    "'Year':\"2010\", \n",
    "'Potencia':140,\n",
    "'Kilometros':130000,\n",
    "'Puertas':3,\n",
    "'Cambio':\"Manual\", \n",
    "'Cilindros':4,\n",
    "'Marchas':6.0,\n",
    "'Traccion':\"Delantera\",\n",
    "'Combustible':\"Diesel\"\n",
    "}\n",
    "\n",
    "##Car Price\n",
    "url = \"http://localhost:8080/carprice\"\n",
    "requests.get(url,data=pepe).text"
   ]
  },
  {
   "cell_type": "code",
   "execution_count": 89,
   "metadata": {},
   "outputs": [
    {
     "data": {
      "text/plain": [
       "'Precio recomendado para tu Volkswagen Golf: 13202€'"
      ]
     },
     "execution_count": 89,
     "metadata": {},
     "output_type": "execute_result"
    }
   ],
   "source": [
    "##URL=\"https://www.ocasionplus.com/coches-segunda-mano/volkswagen-golf-special-edition-1.2-tsi-110cv-bmt-con-28127km-2016\"\n",
    "\n",
    "pepa={\n",
    "'Brand':\"Volkswagen\",\n",
    "'Model':\"Volkswagen Golf\",\n",
    "'Year':\"2016\", \n",
    "'Potencia':110,\n",
    "'Kilometros':28000,\n",
    "'Puertas':3,\n",
    "'Cambio':\"Manual\", \n",
    "'Cilindros':4,\n",
    "'Marchas':5.0,\n",
    "'Traccion':\"Delantera\",\n",
    "'Combustible':\"Gasolina\"\n",
    "}\n",
    "url = \"http://localhost:8080/carprice\"\n",
    "requests.get(url,data=pepa).text"
   ]
  },
  {
   "cell_type": "code",
   "execution_count": 97,
   "metadata": {},
   "outputs": [
    {
     "data": {
      "text/plain": [
       "'\\n    <!DOCTYPE HTML PUBLIC \"-//IETF//DTD HTML 2.0//EN\">\\n    <html>\\n        <head>\\n            <title>Error: 500 Internal Server Error</title>\\n            <style type=\"text/css\">\\n              html {background-color: #eee; font-family: sans;}\\n              body {background-color: #fff; border: 1px solid #ddd;\\n                    padding: 15px; margin: 15px;}\\n              pre {background-color: #eee; border: 1px solid #ddd; padding: 5px;}\\n            </style>\\n        </head>\\n        <body>\\n            <h1>Error: 500 Internal Server Error</h1>\\n            <p>Sorry, the requested URL <tt>&#039;http://localhost:8080/model&#039;</tt>\\n               caused an error:</p>\\n            <pre>Internal Server Error</pre>\\n              <h2>Exception:</h2>\\n              <pre>KeyError(&quot;[&#039;Emisiones&#039; &#039;Peso&#039; &#039;0-100km/h&#039; &#039;Cilindrada&#039; &#039;Transmision&#039; &#039;Parmaximo&#039;\\\\n &#039;Curbano&#039; &#039;Extraurbano&#039; &#039;Cmixto&#039; &#039;Plazas&#039; &#039;Longitud&#039; &#039;Velocidad&#039;\\\\n &#039;Carroceria&#039;] not found in axis&quot;,)</pre>\\n              <h2>Traceback:</h2>\\n              <pre>Traceback (most recent call last):\\n  File &quot;/home/alfonso/.local/lib/python3.6/site-packages/bottle.py&quot;, line 862, in _handle\\n    return route.call(**args)\\n  File &quot;/home/alfonso/.local/lib/python3.6/site-packages/bottle.py&quot;, line 1742, in wrapper\\n    rv = callback(*a, **ka)\\n  File &quot;/home/alfonso/alfpml_ih/projects/carpricing/Pricing_2hand_cars/api.py&quot;, line 29, in modelstats\\n    df=cln.dropcolumns(df,prm.columnsdrop)\\n  File &quot;/home/alfonso/alfpml_ih/projects/carpricing/Pricing_2hand_cars/clean.py&quot;, line 21, in dropcolumns\\n    df.drop(columnsdrop, axis=1, inplace=True)\\n  File &quot;/home/alfonso/.local/lib/python3.6/site-packages/pandas/core/frame.py&quot;, line 4117, in drop\\n    errors=errors,\\n  File &quot;/home/alfonso/.local/lib/python3.6/site-packages/pandas/core/generic.py&quot;, line 3914, in drop\\n    obj = obj._drop_axis(labels, axis, level=level, errors=errors)\\n  File &quot;/home/alfonso/.local/lib/python3.6/site-packages/pandas/core/generic.py&quot;, line 3946, in _drop_axis\\n    new_axis = axis.drop(labels, errors=errors)\\n  File &quot;/home/alfonso/.local/lib/python3.6/site-packages/pandas/core/indexes/base.py&quot;, line 5340, in drop\\n    raise KeyError(&quot;{} not found in axis&quot;.format(labels[mask]))\\nKeyError: &quot;[&#039;Emisiones&#039; &#039;Peso&#039; &#039;0-100km/h&#039; &#039;Cilindrada&#039; &#039;Transmision&#039; &#039;Parmaximo&#039;\\\\n &#039;Curbano&#039; &#039;Extraurbano&#039; &#039;Cmixto&#039; &#039;Plazas&#039; &#039;Longitud&#039; &#039;Velocidad&#039;\\\\n &#039;Carroceria&#039;] not found in axis&quot;\\n</pre>\\n        </body>\\n    </html>\\n'"
      ]
     },
     "execution_count": 97,
     "metadata": {},
     "output_type": "execute_result"
    }
   ],
   "source": [
    "##Car details\n",
    "url = \"http://localhost:8080/model\"\n",
    "model=\"Mercedes Clase A\"\n",
    "requests.get(url,data=model).text"
   ]
  },
  {
   "cell_type": "code",
   "execution_count": null,
   "metadata": {},
   "outputs": [],
   "source": []
  }
 ],
 "metadata": {
  "kernelspec": {
   "display_name": "Python 3",
   "language": "python",
   "name": "python3"
  },
  "language_info": {
   "codemirror_mode": {
    "name": "ipython",
    "version": 3
   },
   "file_extension": ".py",
   "mimetype": "text/x-python",
   "name": "python",
   "nbconvert_exporter": "python",
   "pygments_lexer": "ipython3",
   "version": "3.6.9"
  }
 },
 "nbformat": 4,
 "nbformat_minor": 2
}
