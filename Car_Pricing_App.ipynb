{
 "cells": [
  {
   "cell_type": "code",
   "execution_count": 25,
   "metadata": {},
   "outputs": [],
   "source": [
    "from bottle import route, run, get, post, request\n",
    "from bson.json_util import dumps\n",
    "import json\n",
    "import dns\n",
    "import requests\n",
    "import src.mongoconnect as mf\n",
    "import src.clean_functions as cl_f\n",
    "import parameters as prm\n",
    "import clean as cln\n",
    "import model as mdl\n",
    "import car_input as ci\n",
    "import pandas as pd\n",
    "import numpy as np\n",
    "import re\n",
    "from pymongo import MongoClient\n",
    "import getpass"
   ]
  },
  {
   "cell_type": "code",
   "execution_count": null,
   "metadata": {},
   "outputs": [
    {
     "name": "stderr",
     "output_type": "stream",
     "text": [
      "Bottle v0.12.17 server starting up (using WSGIRefServer())...\n",
      "Listening on http://0.0.0.0:8080/\n",
      "Hit Ctrl-C to quit.\n",
      "\n",
      "127.0.0.1 - - [19/Dec/2019 17:38:40] \"GET / HTTP/1.1\" 404 718\n",
      "127.0.0.1 - - [19/Dec/2019 17:39:51] \"GET / HTTP/1.1\" 404 718\n"
     ]
    }
   ],
   "source": [
    "db, coll = mf.connectCollection('carpricing','cars')\n",
    "run(host=\"0.0.0.0\", port=8080, debug=True)"
   ]
  },
  {
   "cell_type": "code",
   "execution_count": 19,
   "metadata": {},
   "outputs": [],
   "source": [
    "pepe={\n",
    "'Name':\"Pepe\",\n",
    "'Brand':\"Audi\",\n",
    "'Model':\"Audi A3\",\n",
    "'Ano':\"2005\", \n",
    "'Potencia':\"140\",\n",
    "'Kilometros':\"240000\",\n",
    "'Puertas':\"5\",\n",
    "'Cambio':\"Manual\", \n",
    "'Cilindros':\"4\",\n",
    "'Marchas':\"6.0\",\n",
    "'Traccion':\"Delantera\",\n",
    "'Combustible':\"Diesel\"\n",
    "}"
   ]
  },
  {
   "cell_type": "code",
   "execution_count": null,
   "metadata": {},
   "outputs": [],
   "source": [
    "##Car details\n",
    "url = \"http://localhost:8080/carprice\"\n",
    "requests.get(url,data=pepe).text"
   ]
  },
  {
   "cell_type": "code",
   "execution_count": null,
   "metadata": {},
   "outputs": [],
   "source": [
    "##Car details\n",
    "url = \"http://localhost:8080/model\"\n",
    "model=\"Audi A3\"\n",
    "requests.get(url,data=model).text"
   ]
  },
  {
   "cell_type": "code",
   "execution_count": null,
   "metadata": {},
   "outputs": [],
   "source": []
  }
 ],
 "metadata": {
  "kernelspec": {
   "display_name": "Python 3",
   "language": "python",
   "name": "python3"
  },
  "language_info": {
   "codemirror_mode": {
    "name": "ipython",
    "version": 3
   },
   "file_extension": ".py",
   "mimetype": "text/x-python",
   "name": "python",
   "nbconvert_exporter": "python",
   "pygments_lexer": "ipython3",
   "version": "3.6.9"
  }
 },
 "nbformat": 4,
 "nbformat_minor": 2
}
