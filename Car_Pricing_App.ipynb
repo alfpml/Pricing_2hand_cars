{
 "cells": [
  {
   "cell_type": "code",
   "execution_count": 69,
   "metadata": {},
   "outputs": [],
   "source": [
    "from bottle import route, run, get, post, request\n",
    "from bson.json_util import dumps\n",
    "import json\n",
    "import dns\n",
    "import requests\n",
    "from pymongo import MongoClient\n",
    "import getpass"
   ]
  },
  {
   "cell_type": "code",
   "execution_count": 78,
   "metadata": {},
   "outputs": [
    {
     "data": {
      "text/plain": [
       "'Precio recomendado para tu Audi A3: 3526€'"
      ]
     },
     "execution_count": 78,
     "metadata": {},
     "output_type": "execute_result"
    }
   ],
   "source": [
    "###URL: https://www.coches.com/coches-segunda-mano/audi-a3-diesel.htm?anyo_desde=2004&anyo_hasta=2004&km_desde=150000&potencia_desde=140&cambio=1&puertas=3\n",
    "\n",
    "carlos={\n",
    "'Brand':\"Audi\",\n",
    "'Model':\"Audi A3\",\n",
    "'Year':\"2004\", \n",
    "'Potencia':140,\n",
    "'Kilometros':200000,\n",
    "'Puertas':3,\n",
    "'Cambio':\"Manual\", \n",
    "'Cilindros':4,\n",
    "'Marchas':6.0,\n",
    "'Traccion':\"Delantera\",\n",
    "'Combustible':\"Diesel\"\n",
    "}\n",
    "\n",
    "##Car Price\n",
    "url = \"http://localhost:8080/carprice\"\n",
    "requests.get(url,data=carlos).text"
   ]
  },
  {
   "cell_type": "code",
   "execution_count": 79,
   "metadata": {},
   "outputs": [
    {
     "data": {
      "text/plain": [
       "'Precio recomendado para tu Audi A3: 15778€'"
      ]
     },
     "execution_count": 79,
     "metadata": {},
     "output_type": "execute_result"
    }
   ],
   "source": [
    "###Ejemplo mismo modelo más actual\n",
    "\n",
    "pepe={\n",
    "'Brand':\"Audi\",\n",
    "'Model':\"Audi A3\",\n",
    "'Year':\"2014\", \n",
    "'Potencia':150,\n",
    "'Kilometros':75000,\n",
    "'Puertas':3,\n",
    "'Cambio':\"Manual\", \n",
    "'Cilindros':4,\n",
    "'Marchas':6.0,\n",
    "'Traccion':\"Delantera\",\n",
    "'Combustible':\"Diesel\"\n",
    "}\n",
    "\n",
    "##Car Price\n",
    "url = \"http://localhost:8080/carprice\"\n",
    "requests.get(url,data=pepe).text"
   ]
  },
  {
   "cell_type": "code",
   "execution_count": 80,
   "metadata": {},
   "outputs": [
    {
     "data": {
      "text/plain": [
       "'Precio recomendado para tu Volkswagen Golf: 13355€'"
      ]
     },
     "execution_count": 80,
     "metadata": {},
     "output_type": "execute_result"
    }
   ],
   "source": [
    "##URL=\"https://www.ocasionplus.com/coches-segunda-mano/volkswagen-golf-special-edition-1.2-tsi-110cv-bmt-con-28127km-2016\"\n",
    "\n",
    "pepa={\n",
    "'Brand':\"Volkswagen\",\n",
    "'Model':\"Volkswagen Golf\",\n",
    "'Year':\"2016\", \n",
    "'Potencia':110,\n",
    "'Kilometros':28000,\n",
    "'Puertas':3,\n",
    "'Cambio':\"Manual\", \n",
    "'Cilindros':4,\n",
    "'Marchas':5.0,\n",
    "'Traccion':\"Delantera\",\n",
    "'Combustible':\"Gasolina\"\n",
    "}\n",
    "url = \"http://localhost:8080/carprice\"\n",
    "requests.get(url,data=pepa).text"
   ]
  },
  {
   "cell_type": "code",
   "execution_count": 55,
   "metadata": {},
   "outputs": [
    {
     "data": {
      "text/plain": [
       "''"
      ]
     },
     "execution_count": 55,
     "metadata": {},
     "output_type": "execute_result"
    }
   ],
   "source": [
    "##Car details\n",
    "url = \"http://localhost:8080/model\"\n",
    "model=\"Mercedes Clase A\"\n",
    "requests.get(url,data=model).text"
   ]
  },
  {
   "cell_type": "code",
   "execution_count": null,
   "metadata": {},
   "outputs": [],
   "source": []
  }
 ],
 "metadata": {
  "kernelspec": {
   "display_name": "Python 3",
   "language": "python",
   "name": "python3"
  },
  "language_info": {
   "codemirror_mode": {
    "name": "ipython",
    "version": 3
   },
   "file_extension": ".py",
   "mimetype": "text/x-python",
   "name": "python",
   "nbconvert_exporter": "python",
   "pygments_lexer": "ipython3",
   "version": "3.6.9"
  }
 },
 "nbformat": 4,
 "nbformat_minor": 2
}
